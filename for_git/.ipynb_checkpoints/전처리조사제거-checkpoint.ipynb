{
 "cells": [
  {
   "cell_type": "code",
   "execution_count": 1,
   "id": "f51ffc3b-a44b-45e2-9e24-d8baef53c87c",
   "metadata": {},
   "outputs": [
    {
     "data": {
      "text/plain": [
       "'\\ncontext와 쿼리의 조사, 어미를 제거한후 tfidf를 만듭니다.\\n유니그램 ? 바이그램 ? \\n'"
      ]
     },
     "execution_count": 1,
     "metadata": {},
     "output_type": "execute_result"
    }
   ],
   "source": [
    "'''\n",
    "context와 쿼리의 조사, 어미를 제거한후 tfidf를 만듭니다.\n",
    "()로 씌어진건 ()를 띄어쓰기로 치환 《는 앞뒤에 띄어쓰기 없으면 추가, \" '는 앞뒤로 띄어쓰기없으면 추가\n",
    "고유명사의 특성을 살리기 위해 토크나이저는 띄어쓰기만 사용합니다.\n",
    "유니그램 ? 바이그램 ? \n",
    "'''"
   ]
  },
  {
   "cell_type": "code",
   "execution_count": 2,
   "id": "af88ac66-6194-4e72-bd0a-fbd3e78f3d11",
   "metadata": {},
   "outputs": [],
   "source": [
    "import json\n",
    "import os\n",
    "import pickle\n",
    "import time\n",
    "from contextlib import contextmanager\n",
    "from typing import List, NoReturn, Optional, Tuple, Union\n",
    "\n",
    "import faiss\n",
    "import numpy as np\n",
    "import pandas as pd\n",
    "from datasets import Dataset, concatenate_datasets, load_from_disk\n",
    "from sklearn.feature_extraction.text import TfidfVectorizer"
   ]
  },
  {
   "cell_type": "code",
   "execution_count": 3,
   "id": "8a7efdcc-eca6-439a-b2e5-ac7e3fecae1a",
   "metadata": {},
   "outputs": [],
   "source": [
    "data_path = \"../../data\"\n",
    "context_path = \"wikipedia_documents.json\"\n",
    "with open(os.path.join(data_path, context_path), \"r\", encoding=\"utf-8\") as f:\n",
    "    wiki = json.load(f)\n",
    "\n",
    "contexts = list(\n",
    "    dict.fromkeys([v[\"text\"] for v in wiki.values()])\n",
    ")"
   ]
  },
  {
   "cell_type": "code",
   "execution_count": 4,
   "id": "230cdfb2-0173-4978-9f61-b2fa814f6a5c",
   "metadata": {},
   "outputs": [],
   "source": [
    "a = pd.read_csv(\"./checkcheck.csv\")\n",
    "a = list(a['question'])\n",
    "query = a"
   ]
  },
  {
   "cell_type": "code",
   "execution_count": 6,
   "id": "43a5a6f2-05ff-489d-b2cc-8b35a6914585",
   "metadata": {},
   "outputs": [
    {
     "ename": "SyntaxError",
     "evalue": "invalid syntax (4229850315.py, line 1)",
     "output_type": "error",
     "traceback": [
      "\u001b[0;36m  Input \u001b[0;32mIn [6]\u001b[0;36m\u001b[0m\n\u001b[0;31m    josa omi\u001b[0m\n\u001b[0m         ^\u001b[0m\n\u001b[0;31mSyntaxError\u001b[0m\u001b[0;31m:\u001b[0m invalid syntax\n"
     ]
    }
   ],
   "source": [
    "josa omi \n",
    "\n",
    "for i,v in enumerate(context):\n",
    "    if \n",
    "    "
   ]
  },
  {
   "cell_type": "code",
   "execution_count": 8,
   "id": "37eace9e-adcf-487b-971f-6269f5f1fde7",
   "metadata": {},
   "outputs": [],
   "source": [
    "f= open(\"./EOMI.TXT\", 'r', encoding='UTF8')"
   ]
  },
  {
   "cell_type": "code",
   "execution_count": 10,
   "id": "e5afe926-1167-482f-ab68-f7421d004e93",
   "metadata": {},
   "outputs": [
    {
     "ename": "UnicodeDecodeError",
     "evalue": "'utf-8' codec can't decode byte 0xb0 in position 0: invalid start byte",
     "output_type": "error",
     "traceback": [
      "\u001b[0;31m---------------------------------------------------------------------------\u001b[0m",
      "\u001b[0;31mUnicodeDecodeError\u001b[0m                        Traceback (most recent call last)",
      "Input \u001b[0;32mIn [12]\u001b[0m, in \u001b[0;36m<cell line: 1>\u001b[0;34m()\u001b[0m\n\u001b[0;32m----> 1\u001b[0m line \u001b[38;5;241m=\u001b[39m \u001b[43mf\u001b[49m\u001b[38;5;241;43m.\u001b[39;49m\u001b[43mreadline\u001b[49m\u001b[43m(\u001b[49m\u001b[43m)\u001b[49m\n",
      "File \u001b[0;32m/opt/conda/lib/python3.8/codecs.py:322\u001b[0m, in \u001b[0;36mBufferedIncrementalDecoder.decode\u001b[0;34m(self, input, final)\u001b[0m\n\u001b[1;32m    319\u001b[0m \u001b[38;5;28;01mdef\u001b[39;00m \u001b[38;5;21mdecode\u001b[39m(\u001b[38;5;28mself\u001b[39m, \u001b[38;5;28minput\u001b[39m, final\u001b[38;5;241m=\u001b[39m\u001b[38;5;28;01mFalse\u001b[39;00m):\n\u001b[1;32m    320\u001b[0m     \u001b[38;5;66;03m# decode input (taking the buffer into account)\u001b[39;00m\n\u001b[1;32m    321\u001b[0m     data \u001b[38;5;241m=\u001b[39m \u001b[38;5;28mself\u001b[39m\u001b[38;5;241m.\u001b[39mbuffer \u001b[38;5;241m+\u001b[39m \u001b[38;5;28minput\u001b[39m\n\u001b[0;32m--> 322\u001b[0m     (result, consumed) \u001b[38;5;241m=\u001b[39m \u001b[38;5;28;43mself\u001b[39;49m\u001b[38;5;241;43m.\u001b[39;49m\u001b[43m_buffer_decode\u001b[49m\u001b[43m(\u001b[49m\u001b[43mdata\u001b[49m\u001b[43m,\u001b[49m\u001b[43m \u001b[49m\u001b[38;5;28;43mself\u001b[39;49m\u001b[38;5;241;43m.\u001b[39;49m\u001b[43merrors\u001b[49m\u001b[43m,\u001b[49m\u001b[43m \u001b[49m\u001b[43mfinal\u001b[49m\u001b[43m)\u001b[49m\n\u001b[1;32m    323\u001b[0m     \u001b[38;5;66;03m# keep undecoded input until the next call\u001b[39;00m\n\u001b[1;32m    324\u001b[0m     \u001b[38;5;28mself\u001b[39m\u001b[38;5;241m.\u001b[39mbuffer \u001b[38;5;241m=\u001b[39m data[consumed:]\n",
      "\u001b[0;31mUnicodeDecodeError\u001b[0m: 'utf-8' codec can't decode byte 0xb0 in position 0: invalid start byte"
     ]
    }
   ],
   "source": [
    "line = f.readline()"
   ]
  },
  {
   "cell_type": "code",
   "execution_count": null,
   "id": "317f11d3-4a90-44e0-8629-105e8248e9dc",
   "metadata": {},
   "outputs": [],
   "source": []
  }
 ],
 "metadata": {
  "kernelspec": {
   "display_name": "Python 3 (ipykernel)",
   "language": "python",
   "name": "python3"
  },
  "language_info": {
   "codemirror_mode": {
    "name": "ipython",
    "version": 3
   },
   "file_extension": ".py",
   "mimetype": "text/x-python",
   "name": "python",
   "nbconvert_exporter": "python",
   "pygments_lexer": "ipython3",
   "version": "3.8.5"
  }
 },
 "nbformat": 4,
 "nbformat_minor": 5
}
