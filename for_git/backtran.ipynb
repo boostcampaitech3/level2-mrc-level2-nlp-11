{
 "cells": [
  {
   "cell_type": "code",
   "execution_count": 1,
   "id": "6e3ea216-c15e-4f76-9cc2-094ad1fa7687",
   "metadata": {},
   "outputs": [
    {
     "name": "stderr",
     "output_type": "stream",
     "text": [
      "  0%|                                                                                                               | 0/4192 [00:00<?, ?it/s][Korean Sentence Splitter]: Initializing Pynori...\n",
      "100%|██████████████████████████████████████████████████████████████████████████████████████████████████| 4192/4192 [1:24:51<00:00,  1.21s/it]\n"
     ]
    }
   ],
   "source": [
    "from pororo import Pororo\n",
    "import pandas as pd\n",
    "from tqdm import tqdm\n",
    "import time \n",
    "# 기계번역\n",
    "mt = Pororo(task=\"translation\", lang=\"multi\")\n",
    "\n",
    "# 번역할 문장 대입\n",
    "\n",
    "a = pd.read_csv(\"./train.csv\")\n",
    "query = a[\"question\"]\n",
    "new_query = []\n",
    "for i in tqdm(query):\n",
    "    a = mt(i, src=\"ko\", tgt=\"en\")\n",
    "    a = mt(a, src=\"en\", tgt=\"ko\")\n",
    "    new_query.append(a)"
   ]
  },
  {
   "cell_type": "code",
   "execution_count": 8,
   "id": "25f0531a-084f-498c-bc68-6fadc57ef289",
   "metadata": {},
   "outputs": [],
   "source": [
    "new_query = pd.DataFrame(new_query)"
   ]
  },
  {
   "cell_type": "code",
   "execution_count": 4,
   "id": "0bc282a2-0c54-4a48-a875-5ff214862286",
   "metadata": {},
   "outputs": [],
   "source": [
    "import pandas as pd \n",
    "from pandas import DataFrame"
   ]
  },
  {
   "cell_type": "code",
   "execution_count": 9,
   "id": "4dd85ae7-fe0d-4d3d-8aaf-8b1e71952402",
   "metadata": {},
   "outputs": [],
   "source": [
    "new_query.to_csv(\"query.csv\")"
   ]
  },
  {
   "cell_type": "code",
   "execution_count": null,
   "id": "dbe24413-e3b6-4630-bd24-becd6e46d9bd",
   "metadata": {},
   "outputs": [],
   "source": []
  }
 ],
 "metadata": {
  "kernelspec": {
   "display_name": "Python 3 (ipykernel)",
   "language": "python",
   "name": "python3"
  },
  "language_info": {
   "codemirror_mode": {
    "name": "ipython",
    "version": 3
   },
   "file_extension": ".py",
   "mimetype": "text/x-python",
   "name": "python",
   "nbconvert_exporter": "python",
   "pygments_lexer": "ipython3",
   "version": "3.8.5"
  }
 },
 "nbformat": 4,
 "nbformat_minor": 5
}
