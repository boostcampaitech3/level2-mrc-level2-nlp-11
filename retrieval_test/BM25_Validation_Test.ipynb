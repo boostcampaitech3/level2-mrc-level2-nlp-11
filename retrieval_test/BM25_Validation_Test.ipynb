{
 "cells": [
  {
   "cell_type": "code",
   "execution_count": 9,
   "metadata": {},
   "outputs": [],
   "source": [
    "from bm25 import BM25\n",
    "\n",
    "from transformers import AutoTokenizer\n",
    "from datasets import load_from_disk\n",
    "\n",
    "import numpy as np\n",
    "\n",
    "import time\n",
    "import json\n",
    "from contextlib import contextmanager"
   ]
  },
  {
   "cell_type": "code",
   "execution_count": 10,
   "metadata": {},
   "outputs": [],
   "source": [
    "with open('../../data/wikipedia_documents.json', 'r', encoding='utf-8') as f:\n",
    "    wiki = json.load(f)\n",
    "\n",
    "wiki_contents = list(dict.fromkeys([v['text'] for v in wiki.values()]))"
   ]
  },
  {
   "cell_type": "code",
   "execution_count": 11,
   "metadata": {},
   "outputs": [
    {
     "name": "stdout",
     "output_type": "stream",
     "text": [
      "wikipedia data length: 60613\n",
      "wikipedia set data length: 56737\n"
     ]
    }
   ],
   "source": [
    "print('wikipedia data length:', len(wiki.keys()))\n",
    "\n",
    "print('wikipedia set data length:', len(wiki_contents))"
   ]
  },
  {
   "cell_type": "code",
   "execution_count": 12,
   "metadata": {},
   "outputs": [
    {
     "data": {
      "text/plain": [
       "DatasetDict({\n",
       "    train: Dataset({\n",
       "        features: ['__index_level_0__', 'answers', 'context', 'document_id', 'id', 'question', 'title'],\n",
       "        num_rows: 3952\n",
       "    })\n",
       "    validation: Dataset({\n",
       "        features: ['__index_level_0__', 'answers', 'context', 'document_id', 'id', 'question', 'title'],\n",
       "        num_rows: 240\n",
       "    })\n",
       "})"
      ]
     },
     "execution_count": 12,
     "metadata": {},
     "output_type": "execute_result"
    }
   ],
   "source": [
    "org_dataset = load_from_disk('../../data/train_dataset')\n",
    "\n",
    "org_dataset"
   ]
  },
  {
   "cell_type": "code",
   "execution_count": 13,
   "metadata": {},
   "outputs": [
    {
     "name": "stdout",
     "output_type": "stream",
     "text": [
      "passage embedding data found.\n",
      "tfidfvectorizer data found.\n"
     ]
    }
   ],
   "source": [
    "MODEL_NAME = 'bert-base-multilingual-cased'\n",
    "\n",
    "tokenizer = AutoTokenizer.from_pretrained(MODEL_NAME, use_fast=False)\n",
    "\n",
    "bm25 = BM25(\n",
    "    b=0.5,\n",
    "    k1=2.0,\n",
    "    tokenizer=tokenizer,\n",
    "    sparse_embedding_path='/opt/ml/input/data/sparse_embedding.bin',\n",
    "    tfidfv_path='/opt/ml/input/data/tfidv.bin')"
   ]
  },
  {
   "cell_type": "code",
   "execution_count": 14,
   "metadata": {},
   "outputs": [],
   "source": [
    "bm25.fit()"
   ]
  },
  {
   "cell_type": "code",
   "execution_count": 15,
   "metadata": {},
   "outputs": [],
   "source": [
    "@contextmanager\n",
    "def timer(name):\n",
    "    t0 = time.time()\n",
    "    yield\n",
    "    print(f\"[{name}] done in {time.time() - t0:.3f} s\")"
   ]
  },
  {
   "cell_type": "code",
   "execution_count": 16,
   "metadata": {},
   "outputs": [
    {
     "name": "stdout",
     "output_type": "stream",
     "text": [
      "Total Validation Score: 26.666666666666668%\n",
      "[TOP K: 1] done in 172.276 s\n",
      "Total Validation Score: 38.75%\n",
      "[TOP K: 2] done in 172.159 s\n",
      "Total Validation Score: 44.166666666666664%\n",
      "[TOP K: 3] done in 166.244 s\n",
      "Total Validation Score: 47.083333333333336%\n",
      "[TOP K: 4] done in 163.462 s\n",
      "Total Validation Score: 51.24999999999999%\n",
      "[TOP K: 5] done in 164.845 s\n",
      "Total Validation Score: 53.75%\n",
      "[TOP K: 6] done in 164.505 s\n",
      "Total Validation Score: 56.666666666666664%\n",
      "[TOP K: 7] done in 165.733 s\n",
      "Total Validation Score: 59.166666666666664%\n",
      "[TOP K: 8] done in 166.908 s\n",
      "Total Validation Score: 61.25000000000001%\n",
      "[TOP K: 9] done in 173.472 s\n",
      "Total Validation Score: 63.33333333333333%\n",
      "[TOP K: 10] done in 173.595 s\n",
      "Total Validation Score: 63.74999999999999%\n",
      "[TOP K: 11] done in 169.838 s\n",
      "Total Validation Score: 64.58333333333334%\n",
      "[TOP K: 12] done in 171.741 s\n",
      "Total Validation Score: 65.41666666666667%\n",
      "[TOP K: 13] done in 170.330 s\n",
      "Total Validation Score: 65.83333333333333%\n",
      "[TOP K: 14] done in 174.678 s\n",
      "Total Validation Score: 67.5%\n",
      "[TOP K: 15] done in 177.117 s\n",
      "Total Validation Score: 68.75%\n",
      "[TOP K: 16] done in 177.643 s\n",
      "Total Validation Score: 69.16666666666667%\n",
      "[TOP K: 17] done in 175.246 s\n",
      "Total Validation Score: 70.0%\n",
      "[TOP K: 18] done in 179.561 s\n",
      "Total Validation Score: 70.41666666666667%\n",
      "[TOP K: 19] done in 179.239 s\n",
      "Total Validation Score: 70.83333333333334%\n",
      "[TOP K: 20] done in 177.482 s\n"
     ]
    }
   ],
   "source": [
    "for i in range(1, 21):\n",
    "    with timer(f'TOP K: {i}'):\n",
    "        TOPK = i\n",
    "        doc_scores = []\n",
    "        doc_indices = []\n",
    "        for i in range(len(org_dataset['validation'])):\n",
    "            result = bm25.transform(org_dataset['validation']['question'][i])\n",
    "            sorted_result = np.argsort(result)[::-1]\n",
    "            doc_scores.append(result[sorted_result].tolist()[:TOPK])\n",
    "            doc_indices.append(sorted_result.tolist()[:TOPK])\n",
    "\n",
    "        correct = 0\n",
    "        for idx, doc_indice in enumerate(doc_indices):\n",
    "            for jdx, indice in enumerate(doc_indice):\n",
    "                if org_dataset['validation']['context'][idx] == wiki_contents[indice]:\n",
    "                    correct += 1\n",
    "        \n",
    "        print(f\"Total Validation Score: {correct/len(org_dataset['validation'])*100}%\")"
   ]
  }
 ],
 "metadata": {
  "interpreter": {
   "hash": "d4d1e4263499bec80672ea0156c357c1ee493ec2b1c70f0acce89fc37c4a6abe"
  },
  "kernelspec": {
   "display_name": "Python 3.8.5 ('base')",
   "language": "python",
   "name": "python3"
  },
  "language_info": {
   "codemirror_mode": {
    "name": "ipython",
    "version": 3
   },
   "file_extension": ".py",
   "mimetype": "text/x-python",
   "name": "python",
   "nbconvert_exporter": "python",
   "pygments_lexer": "ipython3",
   "version": "3.8.5"
  },
  "orig_nbformat": 4
 },
 "nbformat": 4,
 "nbformat_minor": 2
}
