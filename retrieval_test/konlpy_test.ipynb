{
 "cells": [
  {
   "cell_type": "code",
   "execution_count": 1,
   "metadata": {},
   "outputs": [],
   "source": [
    "from konlpy.tag import Kkma\n",
    "from konlpy.utils import pprint\n",
    "\n",
    "from datasets import load_from_disk"
   ]
  },
  {
   "cell_type": "code",
   "execution_count": 2,
   "metadata": {},
   "outputs": [
    {
     "data": {
      "text/plain": [
       "DatasetDict({\n",
       "    train: Dataset({\n",
       "        features: ['__index_level_0__', 'answers', 'context', 'document_id', 'id', 'question', 'title'],\n",
       "        num_rows: 3952\n",
       "    })\n",
       "    validation: Dataset({\n",
       "        features: ['__index_level_0__', 'answers', 'context', 'document_id', 'id', 'question', 'title'],\n",
       "        num_rows: 240\n",
       "    })\n",
       "})"
      ]
     },
     "execution_count": 2,
     "metadata": {},
     "output_type": "execute_result"
    }
   ],
   "source": [
    "org_dataset = load_from_disk('../../data/train_dataset')\n",
    "\n",
    "org_dataset"
   ]
  },
  {
   "cell_type": "code",
   "execution_count": 3,
   "metadata": {},
   "outputs": [],
   "source": [
    "kkma = Kkma()"
   ]
  },
  {
   "cell_type": "code",
   "execution_count": 8,
   "metadata": {},
   "outputs": [
    {
     "name": "stdout",
     "output_type": "stream",
     "text": [
      "처음으로 부실 경영인에 대한 보상 선고를 받은 회사는?\n",
      "'처음 으로 부실 경영인 에 대하 ㄴ 보상 선고 를 받 은 회사 는 ?'\n",
      "****************************************\n",
      "스카버러 남쪽과 코보콘그 마을의 철도 노선이 처음 연장된 연도는?\n",
      "'스카버 러 남쪽 과 코보 콘 그 마을 의 철도 노선 이 처음 연장 되 ㄴ 연도 는 ?'\n",
      "****************************************\n",
      "촌락에서 운영 위원 후보자 이름을 쓰기위해 사용된 것은?\n",
      "'촌락 에서 운영 위원 후보자 이름 을 쓰 기 위하 어 사용 되 ㄴ 것 은 ?'\n",
      "****************************************\n",
      "로타이르가 백조를 구하기 위해 사용한 것은?\n",
      "'로 타이 르 가 백조 를 구하 기 위하 어 사용 하 ㄴ 것 은 ?'\n",
      "****************************************\n",
      "의견을 자유롭게 나누는 것은 조직 내 어떤 관계에서 가능한가?\n",
      "'의견 을 자유 롭 게 나누 는 것 은 조직 내 어떤 관계 에서 가능 하 ㄴ가 ?'\n",
      "****************************************\n",
      "1945년 쇼와천황의 항복 선언이 발표된 라디오 방송은?\n",
      "'1945 년 쇼 와 천황 의 항복 선언 이 발표 되 ㄴ 라디오 방송 은 ?'\n",
      "****************************************\n",
      "징금수는 서양 자수의 어떤 기법과 같은 기술을 사용하는가?\n",
      "'징금수 는 서양 자수 의 어떤 기법 과 같 은 기술 을 사용 하 는 가 아 ?'\n",
      "****************************************\n",
      "다른 과 의사들은 감염내과 전문의들로부터 어떤 것에 대해 조언을 받는가?\n",
      "'다른 과 의사 들 은 감염 내과 전문의 들 로 부터 어떻 ㄴ 것 에 대하 어 조언 을 받 는가 ?'\n",
      "****************************************\n",
      "루이 14세의 왕비 마리아 테래사는 어느 나라 공주인가?\n",
      "'루이 14 세 의 왕비 마리아 테래사 는 어느 나라 공주 이 ㄴ가 ?'\n",
      "****************************************\n",
      "헤자즈 왕국이 실존했던 것은 언제까지인가?\n",
      "'헤자즈 왕국 이 실존 하 었 더 ㄴ 것 은 언제 까지 이 ㄴ가 ?'\n",
      "****************************************\n",
      "버드 교장이 5월의 여왕의 대안으로 제시한 것은?\n",
      "'버드 교장 이 5 월 의 여왕 의 대안 으로 제시 하 ㄴ 것 은 ?'\n",
      "****************************************\n",
      "인형사'를 만들어낸 것으로 추측되는 사업의 이름은?\n",
      "\"인형 사 아 ' 를 만들 어 내 ㄴ 것 으로 추측 되 는 사업 의 이름 은 ?\"\n",
      "****************************************\n"
     ]
    }
   ],
   "source": [
    "for query in org_dataset['validation']['question'][:12]:\n",
    "    print(query)\n",
    "    pprint(' '.join(kkma.morphs(query)))\n",
    "    print('*'*40)"
   ]
  },
  {
   "cell_type": "code",
   "execution_count": 5,
   "metadata": {},
   "outputs": [
    {
     "data": {
      "text/plain": [
       "['루이', '14', '14세', '세', '왕비', '마리아', '테래사', '나라', '공주']"
      ]
     },
     "execution_count": 5,
     "metadata": {},
     "output_type": "execute_result"
    }
   ],
   "source": [
    "kkma.nouns('루이 14세의 왕비 마리아 테래사는 어느 나라 공주인가?')"
   ]
  },
  {
   "cell_type": "code",
   "execution_count": null,
   "metadata": {},
   "outputs": [],
   "source": []
  }
 ],
 "metadata": {
  "interpreter": {
   "hash": "d4d1e4263499bec80672ea0156c357c1ee493ec2b1c70f0acce89fc37c4a6abe"
  },
  "kernelspec": {
   "display_name": "Python 3.8.5 ('base')",
   "language": "python",
   "name": "python3"
  },
  "language_info": {
   "codemirror_mode": {
    "name": "ipython",
    "version": 3
   },
   "file_extension": ".py",
   "mimetype": "text/x-python",
   "name": "python",
   "nbconvert_exporter": "python",
   "pygments_lexer": "ipython3",
   "version": "3.8.5"
  },
  "orig_nbformat": 4
 },
 "nbformat": 4,
 "nbformat_minor": 2
}
