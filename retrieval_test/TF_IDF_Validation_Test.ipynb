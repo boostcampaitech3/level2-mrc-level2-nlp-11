{
 "cells": [
  {
   "cell_type": "code",
   "execution_count": 72,
   "metadata": {},
   "outputs": [],
   "source": [
    "from input.code.retrieval import SparseRetrieval\n",
    "\n",
    "from transformers import AutoTokenizer\n",
    "from datasets import load_from_disk\n",
    "\n",
    "from sklearn.feature_extraction.text import TfidfVectorizer\n",
    "import numpy as np\n",
    "\n",
    "import os\n",
    "import time\n",
    "import json\n",
    "import pickle\n",
    "from contextlib import contextmanager"
   ]
  },
  {
   "cell_type": "code",
   "execution_count": 2,
   "metadata": {},
   "outputs": [],
   "source": [
    "with open('../../input/data/wikipedia_documents.json', 'r', encoding='utf-8') as f:\n",
    "    wiki = json.load(f)\n",
    "\n",
    "wiki_contents = list(dict.fromkeys([v['text'] for v in wiki.values()]))"
   ]
  },
  {
   "cell_type": "code",
   "execution_count": 5,
   "metadata": {},
   "outputs": [
    {
     "name": "stdout",
     "output_type": "stream",
     "text": [
      "wikipedia data length: 60613\n",
      "wikipedia set data length: 56737\n"
     ]
    }
   ],
   "source": [
    "print('wikipedia data length:', len(wiki.keys()))\n",
    "\n",
    "print('wikipedia set data length:', len(wiki_contents))"
   ]
  },
  {
   "cell_type": "code",
   "execution_count": 11,
   "metadata": {},
   "outputs": [],
   "source": [
    "MODEL_NAME = 'bert-base-multilingual-cased'\n",
    "\n",
    "tokenizer = AutoTokenizer.from_pretrained(MODEL_NAME, use_fast=False)\n",
    "\n",
    "sparse_embedding_path = ''\n",
    "tfidfv_path = ''\n",
    "\n",
    "tfidfv = TfidfVectorizer(\n",
    "    tokenizer=tokenizer.tokenize,\n",
    "    ngram_range=(1, 2),\n",
    "    max_features=50000,\n",
    ")\n",
    "\n",
    "if os.path.isfile(sparse_embedding_path) and os.path.isfile(tfidfv_path):\n",
    "    with open(sparse_embedding_path, \"rb\") as file:\n",
    "        p_embedding = pickle.load(file)\n",
    "    with open(tfidfv_path, \"rb\") as file:\n",
    "        tfidfv = pickle.load(file)\n",
    "    print(\"Embedding pickle load.\")\n",
    "else:\n",
    "    print(\"Build passage embedding\")\n",
    "    p_embedding = tfidfv.fit_transform(wiki_contents)\n",
    "    print(p_embedding.shape)\n",
    "    with open(sparse_embedding_path, \"wb\") as file:\n",
    "        pickle.dump(p_embedding, file)\n",
    "    with open(tfidfv_path, \"wb\") as file:\n",
    "        pickle.dump(tfidfv, file)\n",
    "    print(\"Embedding pickle saved.\")"
   ]
  },
  {
   "cell_type": "code",
   "execution_count": 16,
   "metadata": {},
   "outputs": [],
   "source": [
    "wiki_tfidf = tfidfv.fit_transform(wiki_contents)"
   ]
  },
  {
   "cell_type": "code",
   "execution_count": 17,
   "metadata": {},
   "outputs": [
    {
     "name": "stdout",
     "output_type": "stream",
     "text": [
      "wiki TF-IDF shape: (56737, 50000)\n"
     ]
    }
   ],
   "source": [
    "print('wiki TF-IDF shape:', wiki_tfidf.shape)"
   ]
  },
  {
   "cell_type": "code",
   "execution_count": 25,
   "metadata": {},
   "outputs": [],
   "source": [
    "org_dataset = load_from_disk('../../input/data/train_dataset')\n",
    "\n",
    "validation_query_tfidf = tfidfv.transform(org_dataset['validation']['question'])"
   ]
  },
  {
   "cell_type": "code",
   "execution_count": 35,
   "metadata": {},
   "outputs": [],
   "source": [
    "result = validation_query_tfidf * wiki_tfidf.T"
   ]
  },
  {
   "cell_type": "code",
   "execution_count": 38,
   "metadata": {},
   "outputs": [],
   "source": [
    "if not isinstance(result, np.ndarray):\n",
    "    result = result.toarray()"
   ]
  },
  {
   "cell_type": "code",
   "execution_count": 39,
   "metadata": {},
   "outputs": [
    {
     "data": {
      "text/plain": [
       "(240, 56737)"
      ]
     },
     "execution_count": 39,
     "metadata": {},
     "output_type": "execute_result"
    }
   ],
   "source": [
    "result.shape"
   ]
  },
  {
   "cell_type": "code",
   "execution_count": 73,
   "metadata": {},
   "outputs": [],
   "source": [
    "@contextmanager\n",
    "def timer(name):\n",
    "    t0 = time.time()\n",
    "    yield\n",
    "    print(f\"[{name}] done in {time.time() - t0:.3f} s\")"
   ]
  },
  {
   "cell_type": "code",
   "execution_count": 74,
   "metadata": {},
   "outputs": [
    {
     "name": "stdout",
     "output_type": "stream",
     "text": [
      "Total Validation Score: 30.0%\n",
      "[TOP K: 1] done in 2.341 s\n",
      "Total Validation Score: 42.5%\n",
      "[TOP K: 2] done in 2.777 s\n",
      "Total Validation Score: 48.75%\n",
      "[TOP K: 3] done in 3.209 s\n",
      "Total Validation Score: 52.916666666666664%\n",
      "[TOP K: 4] done in 3.657 s\n",
      "Total Validation Score: 56.666666666666664%\n",
      "[TOP K: 5] done in 4.091 s\n",
      "Total Validation Score: 59.166666666666664%\n",
      "[TOP K: 6] done in 4.541 s\n",
      "Total Validation Score: 60.416666666666664%\n",
      "[TOP K: 7] done in 4.985 s\n",
      "Total Validation Score: 63.33333333333333%\n",
      "[TOP K: 8] done in 5.422 s\n",
      "Total Validation Score: 64.16666666666667%\n",
      "[TOP K: 9] done in 5.986 s\n",
      "Total Validation Score: 65.83333333333333%\n",
      "[TOP K: 10] done in 6.435 s\n",
      "Total Validation Score: 66.66666666666666%\n",
      "[TOP K: 11] done in 6.933 s\n",
      "Total Validation Score: 67.5%\n",
      "[TOP K: 12] done in 7.420 s\n",
      "Total Validation Score: 69.58333333333333%\n",
      "[TOP K: 13] done in 7.850 s\n",
      "Total Validation Score: 70.0%\n",
      "[TOP K: 14] done in 8.271 s\n",
      "Total Validation Score: 72.08333333333333%\n",
      "[TOP K: 15] done in 8.763 s\n",
      "Total Validation Score: 72.08333333333333%\n",
      "[TOP K: 16] done in 9.183 s\n",
      "Total Validation Score: 72.91666666666666%\n",
      "[TOP K: 17] done in 9.635 s\n",
      "Total Validation Score: 73.33333333333333%\n",
      "[TOP K: 18] done in 10.073 s\n",
      "Total Validation Score: 73.75%\n",
      "[TOP K: 19] done in 10.520 s\n",
      "Total Validation Score: 73.75%\n",
      "[TOP K: 20] done in 10.996 s\n"
     ]
    }
   ],
   "source": [
    "for i in range(1, 21):\n",
    "    with timer(f'TOP K: {i}'):\n",
    "        TOPK = i\n",
    "        doc_scores = []\n",
    "        doc_indices = []\n",
    "        for i in range(result.shape[0]):\n",
    "            sorted_result = np.argsort(result[i, :])[::-1]\n",
    "            doc_scores.append(result[i, :][sorted_result].tolist()[:TOPK])\n",
    "            doc_indices.append(sorted_result.tolist()[:TOPK])\n",
    "\n",
    "\n",
    "        correct = 0\n",
    "        for idx, doc_indice in enumerate(doc_indices):\n",
    "            # print('QUERY:', org_dataset['validation']['question'][idx])\n",
    "            # print('ORG PASSAGE\\n', org_dataset['validation']['context'][idx])\n",
    "            # for jdx, indice in enumerate(doc_indice):\n",
    "            #     print(f'PREDICT {indice}\\tSCORE {doc_scores[idx][jdx]}\\n', wiki_contents[indice])\n",
    "            # print('*'*40)\n",
    "            \n",
    "            # print('QUERY:', org_dataset['validation']['question'][idx], end=' ')\n",
    "            for jdx, indice in enumerate(doc_indice):\n",
    "                if org_dataset['validation']['context'][idx] == wiki_contents[indice]:\n",
    "                    correct += 1\n",
    "                    # print('YES!!')\n",
    "                # else:\n",
    "                #     print('NO')\n",
    "\n",
    "\n",
    "        print(f\"Total Validation Score: {correct/len(org_dataset['validation'])*100}%\")"
   ]
  },
  {
   "cell_type": "code",
   "execution_count": null,
   "metadata": {},
   "outputs": [],
   "source": []
  }
 ],
 "metadata": {
  "interpreter": {
   "hash": "d4d1e4263499bec80672ea0156c357c1ee493ec2b1c70f0acce89fc37c4a6abe"
  },
  "kernelspec": {
   "display_name": "Python 3.8.5 ('base')",
   "language": "python",
   "name": "python3"
  },
  "language_info": {
   "codemirror_mode": {
    "name": "ipython",
    "version": 3
   },
   "file_extension": ".py",
   "mimetype": "text/x-python",
   "name": "python",
   "nbconvert_exporter": "python",
   "pygments_lexer": "ipython3",
   "version": "3.8.5"
  },
  "orig_nbformat": 4
 },
 "nbformat": 4,
 "nbformat_minor": 2
}
