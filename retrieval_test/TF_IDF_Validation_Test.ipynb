{
 "cells": [
  {
   "cell_type": "code",
   "execution_count": 1,
   "metadata": {},
   "outputs": [],
   "source": [
    "from transformers import AutoTokenizer\n",
    "from datasets import load_from_disk\n",
    "\n",
    "from sklearn.feature_extraction.text import TfidfVectorizer\n",
    "import numpy as np\n",
    "import pandas as pd\n",
    "\n",
    "import os\n",
    "import time\n",
    "import json\n",
    "import pickle\n",
    "from contextlib import contextmanager"
   ]
  },
  {
   "cell_type": "code",
   "execution_count": 2,
   "metadata": {},
   "outputs": [],
   "source": [
    "with open('../../data/wikipedia_documents.json', 'r', encoding='utf-8') as f:\n",
    "    wiki = json.load(f)\n",
    "\n",
    "wiki_contents = list(dict.fromkeys([v['text'] for v in wiki.values()]))"
   ]
  },
  {
   "cell_type": "code",
   "execution_count": 3,
   "metadata": {},
   "outputs": [
    {
     "name": "stdout",
     "output_type": "stream",
     "text": [
      "wikipedia data length: 60613\n",
      "wikipedia set data length: 56737\n"
     ]
    }
   ],
   "source": [
    "print('wikipedia data length:', len(wiki.keys()))\n",
    "\n",
    "print('wikipedia set data length:', len(wiki_contents))"
   ]
  },
  {
   "cell_type": "code",
   "execution_count": 4,
   "metadata": {},
   "outputs": [
    {
     "name": "stdout",
     "output_type": "stream",
     "text": [
      "Embedding pickle load.\n"
     ]
    }
   ],
   "source": [
    "# MODEL_NAME = 'bert-base-multilingual-cased'\n",
    "MODEL_NAME = 'monologg/kobigbird-bert-base'\n",
    "MAX_FEATURES = 100000\n",
    "\n",
    "# tokenizer = AutoTokenizer.from_pretrained(MODEL_NAME, use_fast=False)\n",
    "tokenizer = AutoTokenizer.from_pretrained(MODEL_NAME)\n",
    "\n",
    "MODEL_NAME = MODEL_NAME.split('/')[-1]\n",
    "sparse_embedding_path = f'../../data/{MODEL_NAME}_spare_embedding_{MAX_FEATURES}.bin'\n",
    "tfidfv_path = f'../../data/{MODEL_NAME}_tfidfv_{MAX_FEATURES}.bin'\n",
    "\n",
    "if os.path.isfile(sparse_embedding_path) and os.path.isfile(tfidfv_path):\n",
    "    with open(sparse_embedding_path, \"rb\") as file:\n",
    "        wiki_tfidf = pickle.load(file)\n",
    "    with open(tfidfv_path, \"rb\") as file:\n",
    "        tfidfv = pickle.load(file)\n",
    "    print(\"Embedding pickle load.\")\n",
    "else:\n",
    "    print(\"Build passage embedding\")\n",
    "    tfidfv = TfidfVectorizer(\n",
    "        tokenizer=tokenizer.tokenize,\n",
    "        ngram_range=(1, 2),\n",
    "        max_features=MAX_FEATURES,\n",
    "    )\n",
    "    wiki_tfidf = tfidfv.fit_transform(wiki_contents)\n",
    "    print(wiki_tfidf.shape)\n",
    "    with open(sparse_embedding_path, \"wb\") as file:\n",
    "        pickle.dump(wiki_tfidf, file)\n",
    "    with open(tfidfv_path, \"wb\") as file:\n",
    "        pickle.dump(tfidfv, file)\n",
    "    print(\"Embedding pickle saved.\")"
   ]
  },
  {
   "cell_type": "code",
   "execution_count": 5,
   "metadata": {},
   "outputs": [
    {
     "name": "stdout",
     "output_type": "stream",
     "text": [
      "wiki TF-IDF shape: (56737, 100000)\n"
     ]
    }
   ],
   "source": [
    "print('wiki TF-IDF shape:', wiki_tfidf.shape)"
   ]
  },
  {
   "cell_type": "code",
   "execution_count": 6,
   "metadata": {},
   "outputs": [],
   "source": [
    "org_dataset = load_from_disk('../../data/train_dataset')\n",
    "\n",
    "validation_query_tfidf = tfidfv.transform(org_dataset['validation']['question'])"
   ]
  },
  {
   "cell_type": "code",
   "execution_count": 7,
   "metadata": {},
   "outputs": [],
   "source": [
    "result = validation_query_tfidf * wiki_tfidf.T"
   ]
  },
  {
   "cell_type": "code",
   "execution_count": 8,
   "metadata": {},
   "outputs": [],
   "source": [
    "if not isinstance(result, np.ndarray):\n",
    "    result = result.toarray()"
   ]
  },
  {
   "cell_type": "code",
   "execution_count": 9,
   "metadata": {},
   "outputs": [
    {
     "data": {
      "text/plain": [
       "(240, 56737)"
      ]
     },
     "execution_count": 9,
     "metadata": {},
     "output_type": "execute_result"
    }
   ],
   "source": [
    "result.shape"
   ]
  },
  {
   "cell_type": "code",
   "execution_count": 10,
   "metadata": {},
   "outputs": [],
   "source": [
    "@contextmanager\n",
    "def timer(name):\n",
    "    t0 = time.time()\n",
    "    yield\n",
    "    print(f\"[{name}] done in {time.time() - t0:.3f} s\")"
   ]
  },
  {
   "cell_type": "code",
   "execution_count": 12,
   "metadata": {},
   "outputs": [
    {
     "name": "stdout",
     "output_type": "stream",
     "text": [
      "Total Validation Score: 42.083333333333336%\n",
      "[TOP K: 1] done in 2.478 s\n",
      "Total Validation Score: 50.416666666666664%\n",
      "[TOP K: 2] done in 2.865 s\n",
      "Total Validation Score: 60.416666666666664%\n",
      "[TOP K: 3] done in 3.123 s\n",
      "Total Validation Score: 65.41666666666667%\n",
      "[TOP K: 4] done in 3.374 s\n",
      "Total Validation Score: 69.16666666666667%\n",
      "[TOP K: 5] done in 3.575 s\n",
      "Total Validation Score: 71.66666666666667%\n",
      "[TOP K: 6] done in 4.269 s\n",
      "Total Validation Score: 73.33333333333333%\n",
      "[TOP K: 7] done in 3.948 s\n",
      "Total Validation Score: 75.41666666666667%\n",
      "[TOP K: 8] done in 4.132 s\n",
      "Total Validation Score: 77.08333333333334%\n",
      "[TOP K: 9] done in 4.298 s\n",
      "Total Validation Score: 77.91666666666667%\n",
      "[TOP K: 10] done in 4.382 s\n",
      "Total Validation Score: 78.33333333333333%\n",
      "[TOP K: 11] done in 4.523 s\n",
      "Total Validation Score: 78.75%\n",
      "[TOP K: 12] done in 4.676 s\n",
      "Total Validation Score: 78.75%\n",
      "[TOP K: 13] done in 4.807 s\n",
      "Total Validation Score: 78.75%\n",
      "[TOP K: 14] done in 4.920 s\n",
      "Total Validation Score: 80.41666666666667%\n",
      "[TOP K: 15] done in 5.056 s\n",
      "Total Validation Score: 81.66666666666667%\n",
      "[TOP K: 16] done in 5.168 s\n",
      "Total Validation Score: 82.08333333333333%\n",
      "[TOP K: 17] done in 5.284 s\n",
      "Total Validation Score: 82.91666666666667%\n",
      "[TOP K: 18] done in 5.416 s\n",
      "Total Validation Score: 83.33333333333334%\n",
      "[TOP K: 19] done in 5.526 s\n",
      "Total Validation Score: 83.75%\n",
      "[TOP K: 20] done in 5.586 s\n"
     ]
    }
   ],
   "source": [
    "for i in range(1, 21):\n",
    "    with timer(f'TOP K: {i}'):\n",
    "        TOPK = i\n",
    "        doc_scores = []\n",
    "        doc_indices = []\n",
    "        for j in range(result.shape[0]):\n",
    "            sorted_result = np.argsort(result[j, :])[::-1]\n",
    "            doc_scores.append(result[j, :][sorted_result].tolist()[:TOPK])\n",
    "            doc_indices.append(sorted_result.tolist()[:TOPK])\n",
    "\n",
    "        # Context Accuracy\n",
    "        # correct = 0\n",
    "        # for idx, doc_indice in enumerate(doc_indices):\n",
    "        #     for jdx, indice in enumerate(doc_indice):\n",
    "        #         if org_dataset['validation']['context'][idx] == wiki_contents[indice]:\n",
    "        #             correct += 1\n",
    "        \n",
    "        # Label Accuracy\n",
    "        correct = 0\n",
    "        for idx, doc_indice in enumerate(doc_indices):\n",
    "            for jdx, indice in enumerate(doc_indice):\n",
    "                if org_dataset['validation']['answers'][idx]['text'][0] in wiki_contents[indice]:\n",
    "                    correct += 1\n",
    "                    break\n",
    "\n",
    "        print(f\"Total Validation Score: {correct/len(org_dataset['validation'])*100}%\")"
   ]
  },
  {
   "cell_type": "code",
   "execution_count": null,
   "metadata": {},
   "outputs": [],
   "source": [
    "# train validation to csv\n",
    "\n",
    "# df = pd.DataFrame(result)\n",
    "# df.to_csv(f'Train-Validation_{MODEL_NAME}_TF-IDF_{MAX_FEATURES}.csv', index=False)\n",
    "# df"
   ]
  },
  {
   "cell_type": "code",
   "execution_count": null,
   "metadata": {},
   "outputs": [],
   "source": [
    "# test validation to csv\n",
    "\n",
    "# org_dataset_test = load_from_disk('../../data/test_dataset')\n",
    "# print(org_dataset_test)\n",
    "\n",
    "# test_query_tfidf = tfidfv.transform(org_dataset_test['validation']['question'])\n",
    "# print('Test Validation Shape:', test_query_tfidf.shape)\n",
    "\n",
    "# result_test = test_query_tfidf * wiki_tfidf.T\n",
    "# if not isinstance(result_test, np.ndarray):\n",
    "#     result_test = result_test.toarray()\n",
    "# print('Scores Shape & Type:', result_test.shape, type(result_test))\n",
    "\n",
    "# df = pd.DataFrame(result_test)\n",
    "# df.to_csv(f'Test-Validation_{MODEL_NAME}_TF-IDF_{MAX_FEATURES}.csv', index=False)\n",
    "# df"
   ]
  },
  {
   "cell_type": "code",
   "execution_count": null,
   "metadata": {},
   "outputs": [],
   "source": []
  }
 ],
 "metadata": {
  "interpreter": {
   "hash": "d4d1e4263499bec80672ea0156c357c1ee493ec2b1c70f0acce89fc37c4a6abe"
  },
  "kernelspec": {
   "display_name": "Python 3.8.5 ('base')",
   "language": "python",
   "name": "python3"
  },
  "language_info": {
   "codemirror_mode": {
    "name": "ipython",
    "version": 3
   },
   "file_extension": ".py",
   "mimetype": "text/x-python",
   "name": "python",
   "nbconvert_exporter": "python",
   "pygments_lexer": "ipython3",
   "version": "3.8.5"
  },
  "orig_nbformat": 4
 },
 "nbformat": 4,
 "nbformat_minor": 2
}
