{
 "cells": [
  {
   "cell_type": "code",
   "execution_count": 1,
   "metadata": {},
   "outputs": [],
   "source": [
    "from elasticsearch import Elasticsearch\n",
    "\n",
    "from konlpy.tag import Kkma, Mecab\n",
    "\n",
    "from datasets import load_from_disk\n",
    "\n",
    "import time\n",
    "import json\n",
    "from contextlib import contextmanager"
   ]
  },
  {
   "cell_type": "markdown",
   "metadata": {},
   "source": [
    "### 참고\n",
    "https://amboulouma.com/elasticsearch-python\n",
    "\n",
    "https://gh402.tistory.com/51\n",
    "\n",
    "https://jvvp.tistory.com/1152"
   ]
  },
  {
   "cell_type": "code",
   "execution_count": 2,
   "metadata": {},
   "outputs": [],
   "source": [
    "# Load wikipedia json data\n",
    "with open('../../data/wikipedia_documents.json', 'r', encoding='utf-8') as f:\n",
    "    wiki = json.load(f)\n",
    "\n",
    "wiki_contents = list(dict.fromkeys([v['text'] for v in wiki.values()]))"
   ]
  },
  {
   "cell_type": "code",
   "execution_count": 3,
   "metadata": {},
   "outputs": [
    {
     "name": "stdout",
     "output_type": "stream",
     "text": [
      "Original data length: 60613\n",
      "W/o replicated data length: 56737\n"
     ]
    }
   ],
   "source": [
    "# Check wikipedia data\n",
    "print('Original data length:', len(wiki.keys()))\n",
    "print('W/o replicated data length:', len(wiki_contents))"
   ]
  },
  {
   "cell_type": "code",
   "execution_count": 4,
   "metadata": {},
   "outputs": [],
   "source": [
    "es = Elasticsearch('http://localhost:30001')"
   ]
  },
  {
   "cell_type": "code",
   "execution_count": 5,
   "metadata": {},
   "outputs": [
    {
     "name": "stdout",
     "output_type": "stream",
     "text": [
      "{\n",
      "  \"name\" : \"iCfG3OW\",\n",
      "  \"cluster_name\" : \"elasticsearch\",\n",
      "  \"cluster_uuid\" : \"ne-ovptgRn-Gbd331afwZw\",\n",
      "  \"version\" : {\n",
      "    \"number\" : \"5.4.3\",\n",
      "    \"build_hash\" : \"eed30a8\",\n",
      "    \"build_date\" : \"2017-06-22T00:34:03.743Z\",\n",
      "    \"build_snapshot\" : false,\n",
      "    \"lucene_version\" : \"6.5.1\"\n",
      "  },\n",
      "  \"tagline\" : \"You Know, for Search\"\n",
      "}\n"
     ]
    }
   ],
   "source": [
    "# Test Elasticsearch Connection\n",
    "!curl -XGET localhost:30001"
   ]
  },
  {
   "cell_type": "code",
   "execution_count": 6,
   "metadata": {},
   "outputs": [
    {
     "name": "stdout",
     "output_type": "stream",
     "text": [
      "epoch      timestamp cluster       status node.total node.data shards pri relo init unassign pending_tasks max_task_wait_time active_shards_percent\n",
      "1651636636 03:57:16  elasticsearch yellow          1         1     10  10    0    0       10             0                  -                 50.0%\n"
     ]
    }
   ],
   "source": [
    "# Check Cluster status\n",
    "!curl -XGET localhost:30001/_cat/health?v"
   ]
  },
  {
   "cell_type": "code",
   "execution_count": 7,
   "metadata": {},
   "outputs": [
    {
     "name": "stdout",
     "output_type": "stream",
     "text": [
      "health status index      uuid                   pri rep docs.count docs.deleted store.size pri.store.size\n",
      "yellow open   wiki_nouns skZkXThZTbaypb3JarTADg   5   1          0            0       650b           650b\n",
      "yellow open   wiki       ufIaLl2KQGKrA5iL6hGx8Q   5   1      56737            0    189.3mb        189.3mb\n"
     ]
    }
   ],
   "source": [
    "# Get Index LIst\n",
    "!curl -XGET localhost:30001/_cat/indices?v"
   ]
  },
  {
   "cell_type": "code",
   "execution_count": 8,
   "metadata": {},
   "outputs": [],
   "source": [
    "# Create Index (이미 해당 index 가 존재하면 에러남)\n",
    "index = 'wiki_nouns'\n",
    "if not es.indices.exists(index):\n",
    "    es.indices.create(index=index)"
   ]
  },
  {
   "cell_type": "code",
   "execution_count": 23,
   "metadata": {},
   "outputs": [
    {
     "name": "stdout",
     "output_type": "stream",
     "text": [
      "health status index      uuid                   pri rep docs.count docs.deleted store.size pri.store.size\n",
      "yellow open   wiki_nouns skZkXThZTbaypb3JarTADg   5   1          0            0       650b           650b\n",
      "yellow open   wiki       ufIaLl2KQGKrA5iL6hGx8Q   5   1      56737            0    189.3mb        189.3mb\n"
     ]
    }
   ],
   "source": [
    "# Get Index LIst  ->  생성한 index 가 보여야 함!\n",
    "!curl -XGET localhost:30001/_cat/indices?v"
   ]
  },
  {
   "cell_type": "code",
   "execution_count": 16,
   "metadata": {},
   "outputs": [
    {
     "data": {
      "text/plain": [
       "{'acknowledged': True}"
      ]
     },
     "execution_count": 16,
     "metadata": {},
     "output_type": "execute_result"
    }
   ],
   "source": [
    "# Index 삭제\n",
    "# es.indices.delete(index='wiki')"
   ]
  },
  {
   "cell_type": "code",
   "execution_count": 9,
   "metadata": {},
   "outputs": [
    {
     "name": "stdout",
     "output_type": "stream",
     "text": [
      "current: 56736\r"
     ]
    }
   ],
   "source": [
    "# Insert a data (Index should be existed!)\n",
    "# Only Do Once!\n",
    "\n",
    "kkma = Kkma()\n",
    "mecab = Mecab()\n",
    "\n",
    "for idx, text in enumerate(wiki_contents):\n",
    "    # body = {'text': ' '.join(kkma.nouns(text))}\n",
    "    body = {'text': ' '.join(mecab.nouns(text))}\n",
    "    # body = {'text': wiki_contents[idx]}\n",
    "    es.index(index=index, doc_type=\"news\", id=idx+1, body=body)\n",
    "    print(f'current: {idx}', end='\\r')\n"
   ]
  },
  {
   "cell_type": "code",
   "execution_count": 10,
   "metadata": {},
   "outputs": [
    {
     "data": {
      "text/plain": [
       "{'_index': 'wiki_nouns',\n",
       " '_type': 'news',\n",
       " '_id': '56737',\n",
       " '_version': 1,\n",
       " 'found': True,\n",
       " '_source': {'text': '협약 부당 노동 행위 제도 규율 협약 조 반 노동조합 차별 행위 보호 규정 노동조합 가입 노동조합 탈퇴 것 조건 고용 황견계약 노동조합원 노동조합 활동 이유 이익 조치 것 보호 규정 조 노동자 단체 사용자 단체 사이 상호 간 간섭 보호 규정 사용 사용 단체 지배 하 둘 목적 노동자 단체 설립 지원 노동자 단체 재정 밖 방법 지원 것 간섭 행위 노동 조건 단체 협약 규율 사용 사용 단체 노동자 단체 사이 자발 교섭 기구 발전 이용 촉진 규정'}}"
      ]
     },
     "execution_count": 10,
     "metadata": {},
     "output_type": "execute_result"
    }
   ],
   "source": [
    "# Get the data\n",
    "es.get(index=index, doc_type='news', id=len(wiki_contents))"
   ]
  },
  {
   "cell_type": "code",
   "execution_count": 13,
   "metadata": {},
   "outputs": [],
   "source": [
    "# Delete a data\n",
    "# es.delete(index=index, id=1)"
   ]
  },
  {
   "cell_type": "code",
   "execution_count": 14,
   "metadata": {},
   "outputs": [],
   "source": [
    "# Search the data by Query (Main !!!!)\n",
    "# body = {\n",
    "#     'query': {\n",
    "#         'match': {\n",
    "#             'text': '유엔 국제 기구'\n",
    "#         }\n",
    "#     }\n",
    "# }\n",
    "\n",
    "# res = es.search(index=index, body=body)"
   ]
  },
  {
   "cell_type": "code",
   "execution_count": 11,
   "metadata": {},
   "outputs": [
    {
     "data": {
      "text/plain": [
       "DatasetDict({\n",
       "    train: Dataset({\n",
       "        features: ['__index_level_0__', 'answers', 'context', 'document_id', 'id', 'question', 'title'],\n",
       "        num_rows: 3952\n",
       "    })\n",
       "    validation: Dataset({\n",
       "        features: ['__index_level_0__', 'answers', 'context', 'document_id', 'id', 'question', 'title'],\n",
       "        num_rows: 240\n",
       "    })\n",
       "})"
      ]
     },
     "execution_count": 11,
     "metadata": {},
     "output_type": "execute_result"
    }
   ],
   "source": [
    "org_dataset = load_from_disk('../../data/train_dataset')\n",
    "\n",
    "org_dataset"
   ]
  },
  {
   "cell_type": "code",
   "execution_count": 12,
   "metadata": {},
   "outputs": [],
   "source": [
    "@contextmanager\n",
    "def timer(name):\n",
    "    t0 = time.time()\n",
    "    yield\n",
    "    print(f\"[{name}] done in {time.time() - t0:.3f} s\")"
   ]
  },
  {
   "cell_type": "code",
   "execution_count": 23,
   "metadata": {},
   "outputs": [
    {
     "name": "stdout",
     "output_type": "stream",
     "text": [
      "Total Validation Score: 72.5%\n",
      "[TOP K: 1] done in 1.159 s\n",
      "Total Validation Score: 78.75%\n",
      "[TOP K: 2] done in 1.316 s\n",
      "Total Validation Score: 80.83333333333333%\n",
      "[TOP K: 3] done in 1.417 s\n",
      "Total Validation Score: 82.91666666666667%\n",
      "[TOP K: 4] done in 1.546 s\n",
      "Total Validation Score: 83.75%\n",
      "[TOP K: 5] done in 1.652 s\n",
      "Total Validation Score: 85.83333333333333%\n",
      "[TOP K: 6] done in 1.767 s\n",
      "Total Validation Score: 87.91666666666667%\n",
      "[TOP K: 7] done in 1.852 s\n",
      "Total Validation Score: 89.16666666666667%\n",
      "[TOP K: 8] done in 1.924 s\n",
      "Total Validation Score: 90.41666666666667%\n",
      "[TOP K: 9] done in 1.975 s\n",
      "Total Validation Score: 90.41666666666667%\n",
      "[TOP K: 10] done in 2.062 s\n",
      "Total Validation Score: 90.83333333333333%\n",
      "[TOP K: 11] done in 2.131 s\n",
      "Total Validation Score: 90.83333333333333%\n",
      "[TOP K: 12] done in 2.180 s\n",
      "Total Validation Score: 90.83333333333333%\n",
      "[TOP K: 13] done in 2.237 s\n",
      "Total Validation Score: 90.83333333333333%\n",
      "[TOP K: 14] done in 2.306 s\n",
      "Total Validation Score: 91.25%\n",
      "[TOP K: 15] done in 2.356 s\n",
      "Total Validation Score: 92.08333333333333%\n",
      "[TOP K: 16] done in 2.466 s\n",
      "Total Validation Score: 92.08333333333333%\n",
      "[TOP K: 17] done in 2.535 s\n",
      "Total Validation Score: 92.5%\n",
      "[TOP K: 18] done in 2.539 s\n",
      "Total Validation Score: 92.5%\n",
      "[TOP K: 19] done in 2.745 s\n",
      "Total Validation Score: 92.5%\n",
      "[TOP K: 20] done in 2.636 s\n"
     ]
    }
   ],
   "source": [
    "# Inference for Train Validation\n",
    "\n",
    "for i in range(1, 21):\n",
    "    with timer(f'TOP K: {i}'):\n",
    "        TOPK = i\n",
    "        doc_scores = []\n",
    "        doc_indices = []\n",
    "        for j in range(len(org_dataset['validation'])):\n",
    "            body = {\n",
    "                'size': TOPK,\n",
    "                'query': {\n",
    "                    'match': {\n",
    "                        # 'text': ' '.join(kkma.nouns(org_dataset['validation']['question'][j]))\n",
    "                        'text': ' '.join(mecab.nouns(org_dataset['validation']['question'][j]))\n",
    "                    }\n",
    "                }\n",
    "            }\n",
    "            res = es.search(index=index, body=body)\n",
    "\n",
    "            a_result_scores = []\n",
    "            a_result_indices = []\n",
    "\n",
    "            for item in res['hits']['hits']:\n",
    "                a_result_scores.append(item['_score'])\n",
    "                a_result_indices.append(int(item['_id'])-1)\n",
    "\n",
    "            doc_scores.append(a_result_scores)\n",
    "            doc_indices.append(a_result_indices)\n",
    "\n",
    "\n",
    "        # Context Accuracy\n",
    "\n",
    "        # correct = 0\n",
    "        # for idx, doc_indice in enumerate(doc_indices):\n",
    "        #     for jdx, indice in enumerate(doc_indice):\n",
    "        #         if org_dataset['validation']['context'][idx] == wiki_contents[indice]:\n",
    "        #             correct += 1\n",
    "\n",
    "        # Label Accuracy\n",
    "        correct = 0\n",
    "        for idx, doc_indice in enumerate(doc_indices):\n",
    "            for jdx, indice in enumerate(doc_indice):\n",
    "                if org_dataset['validation']['answers'][idx]['text'][0] in wiki_contents[indice]:\n",
    "                    correct += 1\n",
    "                    break\n",
    "        \n",
    "        print(f\"Total Validation Score: {correct/len(org_dataset['validation'])*100}%\")"
   ]
  },
  {
   "cell_type": "code",
   "execution_count": 21,
   "metadata": {},
   "outputs": [
    {
     "data": {
      "text/plain": [
       "[{'answer_start': [284], 'text': ['한보철강']},\n",
       " {'answer_start': [146], 'text': ['1871년']},\n",
       " {'answer_start': [517], 'text': ['나뭇잎']},\n",
       " {'answer_start': [1109], 'text': ['금대야']},\n",
       " {'answer_start': [386], 'text': ['수평적 관계']},\n",
       " {'answer_start': [408], 'text': ['옥음방송']},\n",
       " {'answer_start': [192], 'text': ['코칭 스티치']},\n",
       " {'answer_start': [31], 'text': ['복잡한 감염병']},\n",
       " {'answer_start': [625], 'text': ['스페인']},\n",
       " {'answer_start': [71], 'text': ['20세기 초']},\n",
       " {'answer_start': [274], 'text': ['\"5월의 왕\"']},\n",
       " {'answer_start': [901], 'text': [\"'일급 비밀 프로젝트 2501'\"]},\n",
       " {'answer_start': [430], 'text': ['테헤란']},\n",
       " {'answer_start': [317], 'text': ['역사교육과정개발추진위원회']},\n",
       " {'answer_start': [1429], 'text': ['1967년 11월 15일']},\n",
       " {'answer_start': [0], 'text': ['1965년']},\n",
       " {'answer_start': [162], 'text': ['아리크 부케']},\n",
       " {'answer_start': [709], 'text': ['〈중앙일보〉']},\n",
       " {'answer_start': [304], 'text': ['미타케성']},\n",
       " {'answer_start': [536], 'text': ['전체 4순위']},\n",
       " {'answer_start': [689], 'text': ['뇌물']},\n",
       " {'answer_start': [78], 'text': ['보통 유형 준융합성 천연두']},\n",
       " {'answer_start': [366], 'text': ['데스탱 장군']},\n",
       " {'answer_start': [197], 'text': ['박트리아']},\n",
       " {'answer_start': [70], 'text': [\"'진전(陳田)'이라 새겨진 기와조각\"]},\n",
       " {'answer_start': [354], 'text': ['《국가》']},\n",
       " {'answer_start': [6], 'text': ['2011년 3월 19일']},\n",
       " {'answer_start': [61], 'text': ['유럽 포르투갈어']},\n",
       " {'answer_start': [585], 'text': ['메이저 릿지']},\n",
       " {'answer_start': [726], 'text': ['요희']},\n",
       " {'answer_start': [604], 'text': ['포드 극장']},\n",
       " {'answer_start': [317], 'text': ['만주국 관리']},\n",
       " {'answer_start': [312], 'text': ['『협동조합에 관하여』']},\n",
       " {'answer_start': [61], 'text': ['도고쿠']},\n",
       " {'answer_start': [192], 'text': ['몽키 D. 가프']},\n",
       " {'answer_start': [180], 'text': ['조류']},\n",
       " {'answer_start': [540], 'text': ['광주교도소']},\n",
       " {'answer_start': [978], 'text': ['작가 베게티우스']},\n",
       " {'answer_start': [212], 'text': ['가오슝 시']},\n",
       " {'answer_start': [580], 'text': ['쇠망치']},\n",
       " {'answer_start': [1036], 'text': ['마리즈 교수']},\n",
       " {'answer_start': [1424], 'text': ['런던']},\n",
       " {'answer_start': [71], 'text': ['이틀']},\n",
       " {'answer_start': [35], 'text': ['의상대사']},\n",
       " {'answer_start': [135], 'text': ['홋카이도']},\n",
       " {'answer_start': [170], 'text': ['‘우유의 바다’']},\n",
       " {'answer_start': [305], 'text': ['장어']},\n",
       " {'answer_start': [377], 'text': ['소련']},\n",
       " {'answer_start': [305], 'text': ['전치']},\n",
       " {'answer_start': [104], 'text': ['흑색육(黑色肉)']},\n",
       " {'answer_start': [81], 'text': ['욱']},\n",
       " {'answer_start': [624], 'text': ['독일인민당']},\n",
       " {'answer_start': [429], 'text': ['하기노 역']},\n",
       " {'answer_start': [13], 'text': ['회칠']},\n",
       " {'answer_start': [534], 'text': ['황강다리']},\n",
       " {'answer_start': [278], 'text': ['직업 교육']},\n",
       " {'answer_start': [255], 'text': ['공산당']},\n",
       " {'answer_start': [564], 'text': ['매년 음력 정월']},\n",
       " {'answer_start': [258], 'text': ['조계종']},\n",
       " {'answer_start': [89], 'text': ['베이징']},\n",
       " {'answer_start': [219], 'text': ['독일군']},\n",
       " {'answer_start': [47], 'text': ['1932년']},\n",
       " {'answer_start': [0], 'text': ['제서지전(齊西之戰)이후']},\n",
       " {'answer_start': [231], 'text': ['가루아']},\n",
       " {'answer_start': [155], 'text': ['출생 천궁도']},\n",
       " {'answer_start': [915], 'text': ['나말여초']},\n",
       " {'answer_start': [1114], 'text': ['1939년']},\n",
       " {'answer_start': [555], 'text': ['창 절제술']},\n",
       " {'answer_start': [302], 'text': ['도버 밀']},\n",
       " {'answer_start': [33], 'text': ['여정현(呂正鉉)']},\n",
       " {'answer_start': [277], 'text': ['광배']},\n",
       " {'answer_start': [446], 'text': ['울산']},\n",
       " {'answer_start': [504], 'text': ['땅(은색)과 하늘(금색)을 맺고 푸는 권한']},\n",
       " {'answer_start': [435], 'text': ['저수지']},\n",
       " {'answer_start': [215], 'text': ['퀘이커 교']},\n",
       " {'answer_start': [206], 'text': ['피에르 오주로']},\n",
       " {'answer_start': [121], 'text': ['지분']},\n",
       " {'answer_start': [108], 'text': ['독일']},\n",
       " {'answer_start': [412], 'text': ['제 3자']},\n",
       " {'answer_start': [75], 'text': ['페이팔']},\n",
       " {'answer_start': [1013], 'text': ['가리타 히사노리']},\n",
       " {'answer_start': [101], 'text': ['점수']},\n",
       " {'answer_start': [250], 'text': ['코스모케라톱스']},\n",
       " {'answer_start': [536], 'text': [\"'사채회사'\"]},\n",
       " {'answer_start': [386], 'text': ['스위스']},\n",
       " {'answer_start': [272], 'text': ['\"공유지의 비극\"']},\n",
       " {'answer_start': [1222], 'text': ['그 자체가 계급 모순을 가지는 체제']},\n",
       " {'answer_start': [228], 'text': ['해리 트루먼 대통령']},\n",
       " {'answer_start': [256], 'text': ['무위태수']},\n",
       " {'answer_start': [522], 'text': ['크라운라이터']},\n",
       " {'answer_start': [10], 'text': ['1990년 9월']},\n",
       " {'answer_start': [459], 'text': ['\"인간과 요괴의 완전한 평등\"']},\n",
       " {'answer_start': [209], 'text': ['경순왕']},\n",
       " {'answer_start': [13], 'text': ['도널드 트럼프 미국 대통령']},\n",
       " {'answer_start': [264], 'text': ['바르톨로메오 브뤼기에르']},\n",
       " {'answer_start': [83], 'text': ['불교']},\n",
       " {'answer_start': [591], 'text': ['경위대식 망원경']},\n",
       " {'answer_start': [523], 'text': ['남큐슈 자동차 전용 도로']},\n",
       " {'answer_start': [520], 'text': ['세실리아 페인']},\n",
       " {'answer_start': [135], 'text': ['웹 2.0']},\n",
       " {'answer_start': [191], 'text': ['수녀']},\n",
       " {'answer_start': [476], 'text': ['맨해튼']},\n",
       " {'answer_start': [90], 'text': ['상대성이론']},\n",
       " {'answer_start': [459], 'text': ['손권']},\n",
       " {'answer_start': [790], 'text': ['350년']},\n",
       " {'answer_start': [75], 'text': ['펜실베이니아주 출신']},\n",
       " {'answer_start': [120], 'text': ['트렁크']},\n",
       " {'answer_start': [1029], 'text': ['데코행진']},\n",
       " {'answer_start': [155], 'text': ['약 600년']},\n",
       " {'answer_start': [637],\n",
       "  'text': ['깃털 셔틀콕의 타구감을 선호하고, 또한 플라스틱보다 깃털 셔틀콕이 정교한 컨트롤을 하기에 보다 더 적합하기 때문이다']},\n",
       " {'answer_start': [505], 'text': ['1998년']},\n",
       " {'answer_start': [493], 'text': ['드라']},\n",
       " {'answer_start': [530], 'text': ['가르미슈파르텐키르헨']},\n",
       " {'answer_start': [92], 'text': ['정태적인 자본주의']},\n",
       " {'answer_start': [454], 'text': ['데미안']},\n",
       " {'answer_start': [61], 'text': ['목판']},\n",
       " {'answer_start': [397], 'text': ['34자']},\n",
       " {'answer_start': [251], 'text': ['혼묘지']},\n",
       " {'answer_start': [67], 'text': ['바르바로사 작전']},\n",
       " {'answer_start': [82], 'text': ['동계건조(wintertrocken)']},\n",
       " {'answer_start': [444], 'text': ['혹']},\n",
       " {'answer_start': [331], 'text': ['중간 생산물']},\n",
       " {'answer_start': [177], 'text': ['귀인 평향과 행동의 상관 관계']},\n",
       " {'answer_start': [20], 'text': ['높은 전위의 전극']},\n",
       " {'answer_start': [333], 'text': ['기독교']},\n",
       " {'answer_start': [106], 'text': ['1945년']},\n",
       " {'answer_start': [353], 'text': ['브리튼인들']},\n",
       " {'answer_start': [84], 'text': ['미국']},\n",
       " {'answer_start': [351], 'text': ['1기']},\n",
       " {'answer_start': [251], 'text': ['전쟁']},\n",
       " {'answer_start': [870], 'text': ['뇌졸중']},\n",
       " {'answer_start': [0], 'text': ['김수환 추기경']},\n",
       " {'answer_start': [248], 'text': ['60년간']},\n",
       " {'answer_start': [34], 'text': ['페름기']},\n",
       " {'answer_start': [143], 'text': ['서남쪽']},\n",
       " {'answer_start': [498], 'text': ['대형 항공 모함 도로스']},\n",
       " {'answer_start': [1094], 'text': ['성벽에 목이 매달리는 교수형']},\n",
       " {'answer_start': [151], 'text': ['곽상']},\n",
       " {'answer_start': [34], 'text': ['신도 케이']},\n",
       " {'answer_start': [369], 'text': ['디오게네스']},\n",
       " {'answer_start': [718], 'text': ['비밀 투표']},\n",
       " {'answer_start': [0], 'text': ['61화']},\n",
       " {'answer_start': [836], 'text': ['카누']},\n",
       " {'answer_start': [55], 'text': ['알프스 전기 주식회사']},\n",
       " {'answer_start': [48], 'text': ['크리스타']},\n",
       " {'answer_start': [279], 'text': ['배상금을 주기 위하여']},\n",
       " {'answer_start': [852],\n",
       "  'text': ['본국 의회가 식민지에 대한 입법을 “어떤 경우에도 행할 수” 있도록 하였다']},\n",
       " {'answer_start': [42], 'text': ['속도별 배치']},\n",
       " {'answer_start': [943], 'text': ['1975년']},\n",
       " {'answer_start': [251], 'text': ['제비초리']},\n",
       " {'answer_start': [317], 'text': ['석달']},\n",
       " {'answer_start': [727], 'text': ['보은군 남쪽 상용리(현 영동군 용산면 상용리) 마을']},\n",
       " {'answer_start': [115], 'text': ['태화관(서울시 종로구 인사동 소재)']},\n",
       " {'answer_start': [186], 'text': ['식재료']},\n",
       " {'answer_start': [119], 'text': ['하노이']},\n",
       " {'answer_start': [468], 'text': ['공정']},\n",
       " {'answer_start': [835], 'text': ['좌우대칭']},\n",
       " {'answer_start': [885], 'text': ['1913년']},\n",
       " {'answer_start': [515], 'text': ['바라나시']},\n",
       " {'answer_start': [185], 'text': ['대령']},\n",
       " {'answer_start': [0], 'text': ['걸프 카르텔(카르텔 델 골포: Cartel del golfo)']},\n",
       " {'answer_start': [72], 'text': ['피터 케스카트 왓슨']},\n",
       " {'answer_start': [435], 'text': ['충격파']},\n",
       " {'answer_start': [531], 'text': ['대한민국 3보병사단']},\n",
       " {'answer_start': [234], 'text': ['우리의 훌륭한 중국 동료']},\n",
       " {'answer_start': [811], 'text': ['감정 전염']},\n",
       " {'answer_start': [803], 'text': ['스위치 이더넷']},\n",
       " {'answer_start': [365], 'text': ['소비감소']},\n",
       " {'answer_start': [357], 'text': ['마츠키 촌']},\n",
       " {'answer_start': [929], 'text': ['사춘기에서 흔히 볼 수 있는 정서적 불안정성']},\n",
       " {'answer_start': [1190], 'text': ['시트르산 회로']},\n",
       " {'answer_start': [502], 'text': ['아케디아']},\n",
       " {'answer_start': [171], 'text': ['에마뉘엘의 과시하는 듯한 신앙심']},\n",
       " {'answer_start': [296], 'text': ['소비자들의 반응']},\n",
       " {'answer_start': [843], 'text': ['아일랜드 선교자 골룸바노']},\n",
       " {'answer_start': [161], 'text': ['다케다']},\n",
       " {'answer_start': [174], 'text': ['악당']},\n",
       " {'answer_start': [362], 'text': ['유이엔']},\n",
       " {'answer_start': [335], 'text': ['트레뻬제 부대']},\n",
       " {'answer_start': [390], 'text': ['포스카르네트']},\n",
       " {'answer_start': [127], 'text': ['면세증']},\n",
       " {'answer_start': [285], 'text': ['숙의 정씨']},\n",
       " {'answer_start': [58], 'text': ['남성연대 홈페이지']},\n",
       " {'answer_start': [1018], 'text': ['1895년']},\n",
       " {'answer_start': [379], 'text': ['《천체의 회전에 관하여》']},\n",
       " {'answer_start': [738], 'text': ['히로시마']},\n",
       " {'answer_start': [884], 'text': ['5·16 광장(여의도 광장)']},\n",
       " {'answer_start': [514], 'text': ['6m']},\n",
       " {'answer_start': [243], 'text': ['이등공송덕비건의소']},\n",
       " {'answer_start': [609], 'text': ['헬리오시스']},\n",
       " {'answer_start': [209], 'text': ['할머니']},\n",
       " {'answer_start': [444], 'text': ['탄광']},\n",
       " {'answer_start': [864], 'text': ['1796년']},\n",
       " {'answer_start': [79], 'text': ['피자헛']},\n",
       " {'answer_start': [302], 'text': ['가산']},\n",
       " {'answer_start': [781], 'text': ['마거릿 대처 전 영국수상']},\n",
       " {'answer_start': [59], 'text': ['디지털 컴퓨터']},\n",
       " {'answer_start': [995], 'text': ['35년']},\n",
       " {'answer_start': [524], 'text': ['트르피미로비치 왕조(Trpimirović) 출신의 문치미르']},\n",
       " {'answer_start': [327], 'text': ['1947년']},\n",
       " {'answer_start': [442], 'text': ['아이치 전기 전용선']},\n",
       " {'answer_start': [789], 'text': [\"'달빛 정원'(Moonlight Garden)\"]},\n",
       " {'answer_start': [693], 'text': ['란다우 튜브']},\n",
       " {'answer_start': [406], 'text': ['우천']},\n",
       " {'answer_start': [214], 'text': ['＜젊은 근위대＞']},\n",
       " {'answer_start': [163], 'text': ['10만필']},\n",
       " {'answer_start': [226], 'text': ['군대']},\n",
       " {'answer_start': [471], 'text': ['차고나라 전투']},\n",
       " {'answer_start': [33], 'text': ['봅슬레이']},\n",
       " {'answer_start': [301], 'text': ['일등병 토머스']},\n",
       " {'answer_start': [1290], 'text': ['1966년']},\n",
       " {'answer_start': [579], 'text': ['클레몽트']},\n",
       " {'answer_start': [549], 'text': ['17세기 조선 시대']},\n",
       " {'answer_start': [369], 'text': ['모']},\n",
       " {'answer_start': [1056], 'text': ['수입 금지 조치']},\n",
       " {'answer_start': [70], 'text': ['\"광휘에의 각성\"(코키에노 메자메)']},\n",
       " {'answer_start': [574], 'text': ['카바레나 클럽']},\n",
       " {'answer_start': [525], 'text': ['보수']},\n",
       " {'answer_start': [418], 'text': ['리퍼']},\n",
       " {'answer_start': [391], 'text': ['국무회의']},\n",
       " {'answer_start': [52], 'text': ['비단']},\n",
       " {'answer_start': [28], 'text': ['사흘']},\n",
       " {'answer_start': [174], 'text': ['모든 관직을 거친 대과 급제자']},\n",
       " {'answer_start': [63], 'text': ['오사카']},\n",
       " {'answer_start': [1085], 'text': ['제1부인']},\n",
       " {'answer_start': [440], 'text': ['빈자의 십자군']},\n",
       " {'answer_start': [166], 'text': ['멕시코']},\n",
       " {'answer_start': [14], 'text': ['지질 과산화 생성물']},\n",
       " {'answer_start': [605], 'text': ['독감']},\n",
       " {'answer_start': [592], 'text': ['양당(楊黨)']},\n",
       " {'answer_start': [207], 'text': ['슈바이츠 암 존탁']},\n",
       " {'answer_start': [215], 'text': ['퀘이커 교도였던 앨리스 페어살 스미스']},\n",
       " {'answer_start': [242], 'text': ['다수결']},\n",
       " {'answer_start': [373], 'text': ['코프먼과 저스티슨']},\n",
       " {'answer_start': [491], 'text': ['물적 성과(物的成果)']},\n",
       " {'answer_start': [1084], 'text': ['제 양왕']},\n",
       " {'answer_start': [343], 'text': [\"'일곱 개의 신전 광장'\"]},\n",
       " {'answer_start': [247], 'text': ['미나미 지로']},\n",
       " {'answer_start': [563], 'text': ['200,000명']},\n",
       " {'answer_start': [811], 'text': ['공산주의']}]"
      ]
     },
     "execution_count": 21,
     "metadata": {},
     "output_type": "execute_result"
    }
   ],
   "source": [
    "org_dataset['validation']['answers']"
   ]
  },
  {
   "cell_type": "code",
   "execution_count": null,
   "metadata": {},
   "outputs": [],
   "source": []
  }
 ],
 "metadata": {
  "interpreter": {
   "hash": "d4d1e4263499bec80672ea0156c357c1ee493ec2b1c70f0acce89fc37c4a6abe"
  },
  "kernelspec": {
   "display_name": "Python 3.8.5 ('base')",
   "language": "python",
   "name": "python3"
  },
  "language_info": {
   "codemirror_mode": {
    "name": "ipython",
    "version": 3
   },
   "file_extension": ".py",
   "mimetype": "text/x-python",
   "name": "python",
   "nbconvert_exporter": "python",
   "pygments_lexer": "ipython3",
   "version": "3.8.5"
  },
  "orig_nbformat": 4
 },
 "nbformat": 4,
 "nbformat_minor": 2
}
