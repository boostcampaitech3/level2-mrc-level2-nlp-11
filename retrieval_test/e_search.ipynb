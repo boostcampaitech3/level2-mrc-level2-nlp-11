{
 "cells": [
  {
   "cell_type": "code",
   "execution_count": 49,
   "metadata": {},
   "outputs": [],
   "source": [
    "from elasticsearch import Elasticsearch\n",
    "\n",
    "from datasets import load_from_disk\n",
    "\n",
    "import time\n",
    "import json\n",
    "from contextlib import contextmanager"
   ]
  },
  {
   "cell_type": "markdown",
   "metadata": {},
   "source": [
    "### 참고\n",
    "https://amboulouma.com/elasticsearch-python\n",
    "\n",
    "https://gh402.tistory.com/51\n",
    "\n",
    "https://jvvp.tistory.com/1152"
   ]
  },
  {
   "cell_type": "code",
   "execution_count": 7,
   "metadata": {},
   "outputs": [],
   "source": [
    "# Load wikipedia json data\n",
    "with open('../../data/wikipedia_documents.json', 'r', encoding='utf-8') as f:\n",
    "    wiki = json.load(f)\n",
    "\n",
    "wiki_contents = list(dict.fromkeys([v['text'] for v in wiki.values()]))"
   ]
  },
  {
   "cell_type": "code",
   "execution_count": 8,
   "metadata": {},
   "outputs": [
    {
     "name": "stdout",
     "output_type": "stream",
     "text": [
      "Original data length: 60613\n",
      "{'text': '이 문서는 나라 목록이며, 전 세계 206개 나라의 각 현황과 주권 승인 정보를 개요 형태로 나열하고 있다.\\n\\n이 목록은 명료화를 위해 두 부분으로 나뉘어 있다.\\n\\n# 첫 번째 부분은 바티칸 시국과 팔레스타인을 포함하여 유엔 등 국제 기구에 가입되어 국제적인 승인을 널리 받았다고 여기는 195개 나라를 나열하고 있다.\\n# 두 번째 부분은 일부 지역의 주권을 사실상 (데 팍토) 행사하고 있지만, 아직 국제적인 승인을 널리 받지 않았다고 여기는 11개 나라를 나열하고 있다.\\n\\n두 목록은 모두 가나다 순이다.\\n\\n일부 국가의 경우 국가로서의 자격에 논쟁의 여부가 있으며, 이 때문에 이러한 목록을 엮는 것은 매우 어렵고 논란이 생길 수 있는 과정이다. 이 목록을 구성하고 있는 국가를 선정하는 기준에 대한 정보는 \"포함 기준\" 단락을 통해 설명하였다. 나라에 대한 일반적인 정보는 \"국가\" 문서에서 설명하고 있다.', 'corpus_source': '위키피디아', 'url': 'TODO', 'domain': None, 'title': '나라 목록', 'author': None, 'html': None, 'document_id': 0}\n",
      "\n",
      "W/o replicated data length: 56737\n",
      "이 문서는 나라 목록이며, 전 세계 206개 나라의 각 현황과 주권 승인 정보를 개요 형태로 나열하고 있다.\n",
      "\n",
      "이 목록은 명료화를 위해 두 부분으로 나뉘어 있다.\n",
      "\n",
      "# 첫 번째 부분은 바티칸 시국과 팔레스타인을 포함하여 유엔 등 국제 기구에 가입되어 국제적인 승인을 널리 받았다고 여기는 195개 나라를 나열하고 있다.\n",
      "# 두 번째 부분은 일부 지역의 주권을 사실상 (데 팍토) 행사하고 있지만, 아직 국제적인 승인을 널리 받지 않았다고 여기는 11개 나라를 나열하고 있다.\n",
      "\n",
      "두 목록은 모두 가나다 순이다.\n",
      "\n",
      "일부 국가의 경우 국가로서의 자격에 논쟁의 여부가 있으며, 이 때문에 이러한 목록을 엮는 것은 매우 어렵고 논란이 생길 수 있는 과정이다. 이 목록을 구성하고 있는 국가를 선정하는 기준에 대한 정보는 \"포함 기준\" 단락을 통해 설명하였다. 나라에 대한 일반적인 정보는 \"국가\" 문서에서 설명하고 있다.\n"
     ]
    }
   ],
   "source": [
    "# Check wikipedia data\n",
    "print('Original data length:', len(wiki.keys()))\n",
    "print(wiki['0'])\n",
    "print()\n",
    "print('W/o replicated data length:', len(wiki_contents))\n",
    "print(wiki_contents[0])"
   ]
  },
  {
   "cell_type": "code",
   "execution_count": 2,
   "metadata": {},
   "outputs": [],
   "source": [
    "es = Elasticsearch('http://localhost:30001')"
   ]
  },
  {
   "cell_type": "code",
   "execution_count": 3,
   "metadata": {},
   "outputs": [
    {
     "name": "stdout",
     "output_type": "stream",
     "text": [
      "{\n",
      "  \"name\" : \"iCfG3OW\",\n",
      "  \"cluster_name\" : \"elasticsearch\",\n",
      "  \"cluster_uuid\" : \"ne-ovptgRn-Gbd331afwZw\",\n",
      "  \"version\" : {\n",
      "    \"number\" : \"5.4.3\",\n",
      "    \"build_hash\" : \"eed30a8\",\n",
      "    \"build_date\" : \"2017-06-22T00:34:03.743Z\",\n",
      "    \"build_snapshot\" : false,\n",
      "    \"lucene_version\" : \"6.5.1\"\n",
      "  },\n",
      "  \"tagline\" : \"You Know, for Search\"\n",
      "}\n"
     ]
    }
   ],
   "source": [
    "# Test Elasticsearch Connection\n",
    "!curl -XGET localhost:30001"
   ]
  },
  {
   "cell_type": "code",
   "execution_count": 4,
   "metadata": {},
   "outputs": [
    {
     "name": "stdout",
     "output_type": "stream",
     "text": [
      "epoch      timestamp cluster       status node.total node.data shards pri relo init unassign pending_tasks max_task_wait_time active_shards_percent\n",
      "1651550199 03:56:39  elasticsearch yellow          1         1      5   5    0    0        5             0                  -                 50.0%\n"
     ]
    }
   ],
   "source": [
    "# Check Cluster status\n",
    "!curl -XGET localhost:30001/_cat/health?v"
   ]
  },
  {
   "cell_type": "code",
   "execution_count": 16,
   "metadata": {},
   "outputs": [
    {
     "name": "stdout",
     "output_type": "stream",
     "text": [
      "health status index uuid pri rep docs.count docs.deleted store.size pri.store.size\n"
     ]
    }
   ],
   "source": [
    "# Get Index LIst\n",
    "!curl -XGET localhost:30001/_cat/indices?v"
   ]
  },
  {
   "cell_type": "code",
   "execution_count": 17,
   "metadata": {},
   "outputs": [
    {
     "data": {
      "text/plain": [
       "{'acknowledged': True, 'shards_acknowledged': True}"
      ]
     },
     "execution_count": 17,
     "metadata": {},
     "output_type": "execute_result"
    }
   ],
   "source": [
    "# Create Index (이미 해당 index 가 존재하면 에러남)\n",
    "index = wiki\n",
    "if es.indices.exists(index):\n",
    "    es.indices.create(index=index)"
   ]
  },
  {
   "cell_type": "code",
   "execution_count": 41,
   "metadata": {},
   "outputs": [
    {
     "name": "stdout",
     "output_type": "stream",
     "text": [
      "health status index uuid                   pri rep docs.count docs.deleted store.size pri.store.size\n",
      "yellow open   wiki  KYxH_TyOSZycjioUq5_7jA   5   1          0            0     66.5kb         66.5kb\n"
     ]
    }
   ],
   "source": [
    "# Get Index LIst  ->  생성한 index 가 보여야 함!\n",
    "!curl -XGET localhost:30001/_cat/indices?v"
   ]
  },
  {
   "cell_type": "code",
   "execution_count": null,
   "metadata": {},
   "outputs": [],
   "source": [
    "# Index 삭제\n",
    "# es.indices.delete(index='wiki')"
   ]
  },
  {
   "cell_type": "code",
   "execution_count": 42,
   "metadata": {},
   "outputs": [],
   "source": [
    "# Insert a data (Index should be existed!)\n",
    "for idx, text in enumerate(wiki_contents):\n",
    "    body = {'text': text}\n",
    "    es.index(index=\"wiki\", doc_type=\"news\", id=idx+1, body=body)\n"
   ]
  },
  {
   "cell_type": "code",
   "execution_count": 47,
   "metadata": {},
   "outputs": [
    {
     "data": {
      "text/plain": [
       "{'_index': 'wiki',\n",
       " '_type': 'news',\n",
       " '_id': '56737',\n",
       " '_version': 1,\n",
       " 'found': True,\n",
       " '_source': {'text': '이 협약은 부당노동행위 제도를 규율하고 있다. 협약 제1조에서 반노동조합 차별행위로부터의 보호를 규정하고, 특히 노동조합에 가입하지 않거나 노동조합에서 탈퇴할 것을 조건으로 고용하는 황견계약과 노동조합원이라거나 노동조합 활동을 했다는 이유로 불이익조치를 취하는 것에 대한 보호를 규정하고 있다.\\n\\n제2조에서 노동자단체와 사용자단체 사이의 상호간 간섭으로부터 충분한 보호를 하도록 규정한다. 사용자 또는 사용자단체의 지배 하에 둘 목적으로 노동자단체의 설립을 지원하거나 노동자단체에 재정적으로 또는 그 밖의 방법으로 지원하는 것은 간섭행위로 보게 된다.\\n\\n노동조건을 단체협약으로 규율하도록, 사용자 및 사용자단체와 노동자단체 사이의 자발적 교섭을 위한 기구를 발전시키고 이용을 촉진하는 규정을 담았다.'}}"
      ]
     },
     "execution_count": 47,
     "metadata": {},
     "output_type": "execute_result"
    }
   ],
   "source": [
    "# Get the data\n",
    "es.get(index='wiki', doc_type='news', id=len(wiki_contents))"
   ]
  },
  {
   "cell_type": "code",
   "execution_count": 36,
   "metadata": {},
   "outputs": [
    {
     "data": {
      "text/plain": [
       "{'took': 61,\n",
       " 'timed_out': False,\n",
       " 'total': 3,\n",
       " 'deleted': 3,\n",
       " 'batches': 1,\n",
       " 'version_conflicts': 0,\n",
       " 'noops': 0,\n",
       " 'retries': {'bulk': 0, 'search': 0},\n",
       " 'throttled_millis': 0,\n",
       " 'requests_per_second': -1.0,\n",
       " 'throttled_until_millis': 0,\n",
       " 'failures': []}"
      ]
     },
     "execution_count": 36,
     "metadata": {},
     "output_type": "execute_result"
    }
   ],
   "source": [
    "# Delete a data\n",
    "# es.delete(index='wiki', id=1)"
   ]
  },
  {
   "cell_type": "code",
   "execution_count": 28,
   "metadata": {},
   "outputs": [],
   "source": [
    "# Search the data by Query (Main !!!!)\n",
    "body = {\n",
    "    'query': {\n",
    "        'match': {\n",
    "            'text': '유엔 국제 기구'\n",
    "        }\n",
    "    }\n",
    "}\n",
    "\n",
    "res = es.search(index='wiki', body=body)"
   ]
  },
  {
   "cell_type": "code",
   "execution_count": 51,
   "metadata": {},
   "outputs": [
    {
     "data": {
      "text/plain": [
       "DatasetDict({\n",
       "    train: Dataset({\n",
       "        features: ['__index_level_0__', 'answers', 'context', 'document_id', 'id', 'question', 'title'],\n",
       "        num_rows: 3952\n",
       "    })\n",
       "    validation: Dataset({\n",
       "        features: ['__index_level_0__', 'answers', 'context', 'document_id', 'id', 'question', 'title'],\n",
       "        num_rows: 240\n",
       "    })\n",
       "})"
      ]
     },
     "execution_count": 51,
     "metadata": {},
     "output_type": "execute_result"
    }
   ],
   "source": [
    "org_dataset = load_from_disk('../../data/train_dataset')\n",
    "\n",
    "org_dataset"
   ]
  },
  {
   "cell_type": "code",
   "execution_count": 54,
   "metadata": {},
   "outputs": [],
   "source": [
    "@contextmanager\n",
    "def timer(name):\n",
    "    t0 = time.time()\n",
    "    yield\n",
    "    print(f\"[{name}] done in {time.time() - t0:.3f} s\")"
   ]
  },
  {
   "cell_type": "code",
   "execution_count": 74,
   "metadata": {},
   "outputs": [
    {
     "name": "stdout",
     "output_type": "stream",
     "text": [
      "Total Validation Score: 65.83333333333333%\n",
      "[TOP K: 21] done in 10.072 s\n",
      "Total Validation Score: 66.25%\n",
      "[TOP K: 22] done in 10.561 s\n",
      "Total Validation Score: 66.25%\n",
      "[TOP K: 23] done in 10.993 s\n",
      "Total Validation Score: 66.66666666666666%\n",
      "[TOP K: 24] done in 11.413 s\n",
      "Total Validation Score: 67.08333333333333%\n",
      "[TOP K: 25] done in 11.900 s\n",
      "Total Validation Score: 67.08333333333333%\n",
      "[TOP K: 26] done in 12.447 s\n",
      "Total Validation Score: 67.5%\n",
      "[TOP K: 27] done in 12.899 s\n",
      "Total Validation Score: 67.91666666666667%\n",
      "[TOP K: 28] done in 13.416 s\n",
      "Total Validation Score: 67.91666666666667%\n",
      "[TOP K: 29] done in 13.721 s\n",
      "Total Validation Score: 67.91666666666667%\n",
      "[TOP K: 30] done in 14.231 s\n",
      "Total Validation Score: 67.91666666666667%\n",
      "[TOP K: 31] done in 14.783 s\n",
      "Total Validation Score: 68.33333333333333%\n",
      "[TOP K: 32] done in 15.181 s\n",
      "Total Validation Score: 68.33333333333333%\n",
      "[TOP K: 33] done in 15.659 s\n",
      "Total Validation Score: 68.75%\n",
      "[TOP K: 34] done in 15.984 s\n",
      "Total Validation Score: 68.75%\n",
      "[TOP K: 35] done in 16.489 s\n",
      "Total Validation Score: 69.16666666666667%\n",
      "[TOP K: 36] done in 16.914 s\n",
      "Total Validation Score: 70.0%\n",
      "[TOP K: 37] done in 17.416 s\n",
      "Total Validation Score: 70.0%\n",
      "[TOP K: 38] done in 17.838 s\n",
      "Total Validation Score: 70.0%\n",
      "[TOP K: 39] done in 18.248 s\n",
      "Total Validation Score: 70.83333333333334%\n",
      "[TOP K: 40] done in 18.831 s\n",
      "Total Validation Score: 70.83333333333334%\n",
      "[TOP K: 41] done in 19.290 s\n",
      "Total Validation Score: 71.25%\n",
      "[TOP K: 42] done in 19.740 s\n",
      "Total Validation Score: 71.25%\n",
      "[TOP K: 43] done in 20.217 s\n",
      "Total Validation Score: 71.25%\n",
      "[TOP K: 44] done in 20.450 s\n",
      "Total Validation Score: 71.25%\n",
      "[TOP K: 45] done in 21.152 s\n",
      "Total Validation Score: 72.08333333333333%\n",
      "[TOP K: 46] done in 21.477 s\n",
      "Total Validation Score: 72.5%\n",
      "[TOP K: 47] done in 22.017 s\n",
      "Total Validation Score: 72.5%\n",
      "[TOP K: 48] done in 22.400 s\n",
      "Total Validation Score: 72.5%\n",
      "[TOP K: 49] done in 22.879 s\n",
      "Total Validation Score: 72.91666666666666%\n",
      "[TOP K: 50] done in 23.378 s\n",
      "Total Validation Score: 72.91666666666666%\n",
      "[TOP K: 51] done in 23.877 s\n",
      "Total Validation Score: 73.33333333333333%\n",
      "[TOP K: 52] done in 24.402 s\n",
      "Total Validation Score: 73.33333333333333%\n",
      "[TOP K: 53] done in 24.768 s\n",
      "Total Validation Score: 73.33333333333333%\n",
      "[TOP K: 54] done in 25.292 s\n",
      "Total Validation Score: 73.33333333333333%\n",
      "[TOP K: 55] done in 25.392 s\n",
      "Total Validation Score: 73.33333333333333%\n",
      "[TOP K: 56] done in 25.933 s\n",
      "Total Validation Score: 73.33333333333333%\n",
      "[TOP K: 57] done in 26.497 s\n",
      "Total Validation Score: 73.33333333333333%\n",
      "[TOP K: 58] done in 26.832 s\n",
      "Total Validation Score: 73.33333333333333%\n",
      "[TOP K: 59] done in 27.294 s\n",
      "Total Validation Score: 73.75%\n",
      "[TOP K: 60] done in 27.781 s\n",
      "Total Validation Score: 73.75%\n",
      "[TOP K: 61] done in 28.148 s\n",
      "Total Validation Score: 74.16666666666667%\n",
      "[TOP K: 62] done in 28.663 s\n",
      "Total Validation Score: 74.58333333333333%\n",
      "[TOP K: 63] done in 29.152 s\n",
      "Total Validation Score: 74.58333333333333%\n",
      "[TOP K: 64] done in 29.570 s\n",
      "Total Validation Score: 74.58333333333333%\n",
      "[TOP K: 65] done in 30.000 s\n",
      "Total Validation Score: 74.58333333333333%\n",
      "[TOP K: 66] done in 30.480 s\n",
      "Total Validation Score: 74.58333333333333%\n",
      "[TOP K: 67] done in 31.219 s\n",
      "Total Validation Score: 74.58333333333333%\n",
      "[TOP K: 68] done in 31.620 s\n",
      "Total Validation Score: 74.58333333333333%\n",
      "[TOP K: 69] done in 31.948 s\n",
      "Total Validation Score: 74.58333333333333%\n",
      "[TOP K: 70] done in 32.294 s\n",
      "Total Validation Score: 74.58333333333333%\n",
      "[TOP K: 71] done in 32.802 s\n",
      "Total Validation Score: 74.58333333333333%\n",
      "[TOP K: 72] done in 33.402 s\n",
      "Total Validation Score: 74.58333333333333%\n",
      "[TOP K: 73] done in 33.808 s\n",
      "Total Validation Score: 74.58333333333333%\n",
      "[TOP K: 74] done in 33.800 s\n",
      "Total Validation Score: 74.58333333333333%\n",
      "[TOP K: 75] done in 34.610 s\n",
      "Total Validation Score: 74.58333333333333%\n",
      "[TOP K: 76] done in 34.956 s\n",
      "Total Validation Score: 74.58333333333333%\n",
      "[TOP K: 77] done in 35.452 s\n",
      "Total Validation Score: 74.58333333333333%\n",
      "[TOP K: 78] done in 35.748 s\n",
      "Total Validation Score: 74.58333333333333%\n",
      "[TOP K: 79] done in 36.244 s\n",
      "Total Validation Score: 75.0%\n",
      "[TOP K: 80] done in 36.757 s\n",
      "Total Validation Score: 75.0%\n",
      "[TOP K: 81] done in 37.428 s\n",
      "Total Validation Score: 75.0%\n",
      "[TOP K: 82] done in 37.516 s\n",
      "Total Validation Score: 75.41666666666667%\n",
      "[TOP K: 83] done in 38.030 s\n",
      "Total Validation Score: 75.83333333333333%\n",
      "[TOP K: 84] done in 38.142 s\n",
      "Total Validation Score: 75.83333333333333%\n",
      "[TOP K: 85] done in 38.866 s\n",
      "Total Validation Score: 75.83333333333333%\n",
      "[TOP K: 86] done in 39.355 s\n",
      "Total Validation Score: 75.83333333333333%\n",
      "[TOP K: 87] done in 39.587 s\n",
      "Total Validation Score: 75.83333333333333%\n",
      "[TOP K: 88] done in 40.031 s\n",
      "Total Validation Score: 75.83333333333333%\n",
      "[TOP K: 89] done in 40.569 s\n",
      "Total Validation Score: 75.83333333333333%\n",
      "[TOP K: 90] done in 41.329 s\n",
      "Total Validation Score: 75.83333333333333%\n",
      "[TOP K: 91] done in 42.151 s\n",
      "Total Validation Score: 75.83333333333333%\n",
      "[TOP K: 92] done in 42.925 s\n",
      "Total Validation Score: 75.83333333333333%\n",
      "[TOP K: 93] done in 42.545 s\n",
      "Total Validation Score: 75.83333333333333%\n",
      "[TOP K: 94] done in 43.210 s\n",
      "Total Validation Score: 75.83333333333333%\n",
      "[TOP K: 95] done in 43.370 s\n",
      "Total Validation Score: 75.83333333333333%\n",
      "[TOP K: 96] done in 43.977 s\n",
      "Total Validation Score: 75.83333333333333%\n",
      "[TOP K: 97] done in 44.386 s\n",
      "Total Validation Score: 75.83333333333333%\n",
      "[TOP K: 98] done in 44.749 s\n",
      "Total Validation Score: 75.83333333333333%\n",
      "[TOP K: 99] done in 45.257 s\n",
      "Total Validation Score: 75.83333333333333%\n",
      "[TOP K: 100] done in 45.739 s\n"
     ]
    }
   ],
   "source": [
    "# org_dataset['validation']['question']\n",
    "for i in range(21, 101):\n",
    "    with timer(f'TOP K: {i}'):\n",
    "        TOPK = i\n",
    "        doc_scores = []\n",
    "        doc_indices = []\n",
    "        for j in range(len(org_dataset['validation'])):\n",
    "            body = {\n",
    "                'size': TOPK,\n",
    "                'query': {\n",
    "                    'match': {\n",
    "                        'text': org_dataset['validation']['question'][j]\n",
    "                    }\n",
    "                }\n",
    "            }\n",
    "            res = es.search(index='wiki', body=body)\n",
    "\n",
    "            a_result_scores = []\n",
    "            a_result_indices = []\n",
    "\n",
    "            for item in res['hits']['hits']:\n",
    "                a_result_scores.append(item['_score'])\n",
    "                a_result_indices.append(int(item['_id'])-1)\n",
    "\n",
    "            doc_scores.append(a_result_scores)\n",
    "            doc_indices.append(a_result_indices)\n",
    "\n",
    "        correct = 0\n",
    "        for idx, doc_indice in enumerate(doc_indices):\n",
    "            for jdx, indice in enumerate(doc_indice):\n",
    "                if org_dataset['validation']['context'][idx] == wiki_contents[indice]:\n",
    "                    correct += 1\n",
    "        \n",
    "        print(f\"Total Validation Score: {correct/len(org_dataset['validation'])*100}%\")"
   ]
  },
  {
   "cell_type": "code",
   "execution_count": null,
   "metadata": {},
   "outputs": [],
   "source": []
  }
 ],
 "metadata": {
  "interpreter": {
   "hash": "d4d1e4263499bec80672ea0156c357c1ee493ec2b1c70f0acce89fc37c4a6abe"
  },
  "kernelspec": {
   "display_name": "Python 3.8.5 ('base')",
   "language": "python",
   "name": "python3"
  },
  "language_info": {
   "codemirror_mode": {
    "name": "ipython",
    "version": 3
   },
   "file_extension": ".py",
   "mimetype": "text/x-python",
   "name": "python",
   "nbconvert_exporter": "python",
   "pygments_lexer": "ipython3",
   "version": "3.8.5"
  },
  "orig_nbformat": 4
 },
 "nbformat": 4,
 "nbformat_minor": 2
}
